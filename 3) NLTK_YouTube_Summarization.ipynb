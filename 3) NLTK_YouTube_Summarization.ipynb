{
  "nbformat": 4,
  "nbformat_minor": 0,
  "metadata": {
    "colab": {
      "name": "NLTK YouTube Summarization.ipynb",
      "provenance": []
    },
    "kernelspec": {
      "name": "python3",
      "display_name": "Python 3"
    },
    "language_info": {
      "name": "python"
    }
  },
  "cells": [
    {
      "cell_type": "code",
      "execution_count": 28,
      "metadata": {
        "colab": {
          "base_uri": "https://localhost:8080/"
        },
        "id": "yEmsMfYm65dk",
        "outputId": "f08176c3-3f90-4c90-b41f-741c5d770c78"
      },
      "outputs": [
        {
          "output_type": "stream",
          "name": "stdout",
          "text": [
            "Requirement already satisfied: youtube_transcript_api in /usr/local/lib/python3.7/dist-packages (0.4.3)\n",
            "Requirement already satisfied: requests in /usr/local/lib/python3.7/dist-packages (from youtube_transcript_api) (2.23.0)\n",
            "Requirement already satisfied: chardet<4,>=3.0.2 in /usr/local/lib/python3.7/dist-packages (from requests->youtube_transcript_api) (3.0.4)\n",
            "Requirement already satisfied: urllib3!=1.25.0,!=1.25.1,<1.26,>=1.21.1 in /usr/local/lib/python3.7/dist-packages (from requests->youtube_transcript_api) (1.24.3)\n",
            "Requirement already satisfied: certifi>=2017.4.17 in /usr/local/lib/python3.7/dist-packages (from requests->youtube_transcript_api) (2021.10.8)\n",
            "Requirement already satisfied: idna<3,>=2.5 in /usr/local/lib/python3.7/dist-packages (from requests->youtube_transcript_api) (2.10)\n"
          ]
        }
      ],
      "source": [
        "!pip install youtube_transcript_api"
      ]
    },
    {
      "cell_type": "code",
      "source": [
        "from youtube_transcript_api import YouTubeTranscriptApi"
      ],
      "metadata": {
        "id": "rCYhH3VJBSQB"
      },
      "execution_count": 29,
      "outputs": []
    },
    {
      "cell_type": "code",
      "source": [
        "from IPython.display import YouTubeVideo"
      ],
      "metadata": {
        "id": "zHOx67R_A1KI"
      },
      "execution_count": 30,
      "outputs": []
    },
    {
      "cell_type": "code",
      "source": [
        "video=input(\"Enter the link of your YouTube Video: \")"
      ],
      "metadata": {
        "colab": {
          "base_uri": "https://localhost:8080/"
        },
        "id": "4F1NnwDG9BAI",
        "outputId": "3f9480b2-bc68-4422-e463-5977730d0ccd"
      },
      "execution_count": 31,
      "outputs": [
        {
          "name": "stdout",
          "output_type": "stream",
          "text": [
            "Enter the link of your YouTube Video: https://www.youtube.com/watch?v=tXVNS-V39A0\n"
          ]
        }
      ]
    },
    {
      "cell_type": "code",
      "source": [
        "id_video=video.split(\"=\")[1]\n",
        "print(id_video)"
      ],
      "metadata": {
        "colab": {
          "base_uri": "https://localhost:8080/"
        },
        "id": "p_4fVj5B9xV9",
        "outputId": "9e77d68b-6f13-4c16-9f3b-a1e5fb97912b"
      },
      "execution_count": 32,
      "outputs": [
        {
          "output_type": "stream",
          "name": "stdout",
          "text": [
            "tXVNS-V39A0\n"
          ]
        }
      ]
    },
    {
      "cell_type": "code",
      "source": [
        "YouTubeVideo(id_video)"
      ],
      "metadata": {
        "colab": {
          "base_uri": "https://localhost:8080/",
          "height": 321
        },
        "id": "aHtvrEl6-PDp",
        "outputId": "909e5d10-2695-42c0-de89-53196c0041ad"
      },
      "execution_count": 33,
      "outputs": [
        {
          "output_type": "execute_result",
          "data": {
            "text/html": [
              "\n",
              "        <iframe\n",
              "            width=\"400\"\n",
              "            height=\"300\"\n",
              "            src=\"https://www.youtube.com/embed/tXVNS-V39A0\"\n",
              "            frameborder=\"0\"\n",
              "            allowfullscreen\n",
              "        ></iframe>\n",
              "        "
            ],
            "text/plain": [
              "<IPython.lib.display.YouTubeVideo at 0x7ff762532650>"
            ],
            "image/jpeg": "[encoded data removed]"
          },
          "metadata": {},
          "execution_count": 33
        }
      ]
    },
    {
      "cell_type": "code",
      "source": [
        "transcript = YouTubeTranscriptApi.get_transcript(id_video)"
      ],
      "metadata": {
        "id": "ETCajD3JA9dh"
      },
      "execution_count": 34,
      "outputs": []
    },
    {
      "cell_type": "code",
      "source": [
        "transcript"
      ],
      "metadata": {
        "colab": {
          "base_uri": "https://localhost:8080/"
        },
        "id": "3TDlyePNBXOs",
        "outputId": "c709b970-3d00-4537-d0d5-bd4d5228c997"
      },
      "execution_count": 35,
      "outputs": [
        {
          "output_type": "execute_result",
          "data": {
            "text/plain": [
              "[{'duration': 2.569,\n",
              "  'start': 12.0,\n",
              "  'text': 'Machine learning is\\na complex discipline'},\n",
              " {'duration': 3.018,\n",
              "  'start': 14.569,\n",
              "  'text': 'but implementing machine\\nlearning models is far'},\n",
              " {'duration': 1.713, 'start': 17.587, 'text': 'less daunting and difficult'},\n",
              " {'duration': 1.5, 'start': 19.3, 'text': 'than it used to be. Thanks'},\n",
              " {'duration': 3.3,\n",
              "  'start': 20.8,\n",
              "  'text': \"to machine learning Frameworks\\nsuch as Google's TensorFlow\"},\n",
              " {'duration': 1.5, 'start': 24.1, 'text': 'that ease the process'},\n",
              " {'duration': 3.535,\n",
              "  'start': 25.6,\n",
              "  'text': 'of acquiring data, training model,\\nsolving predictions'},\n",
              " {'duration': 2.565,\n",
              "  'start': 29.135,\n",
              "  'text': 'and refining future\\nresults. Created by'},\n",
              " {'duration': 3.406,\n",
              "  'start': 31.7,\n",
              "  'text': 'the Google brain team tensorflow\\nis an open source library'},\n",
              " {'duration': 1.494, 'start': 35.106, 'text': 'for numerical computation'},\n",
              " {'duration': 3.511,\n",
              "  'start': 36.6,\n",
              "  'text': 'and large scale machine learning.\\nTensorflow bundles together'},\n",
              " {'duration': 1.589, 'start': 40.111, 'text': 'a study of machine learning'},\n",
              " {'duration': 1.5, 'start': 41.7, 'text': 'and deep learning models'},\n",
              " {'duration': 2.71,\n",
              "  'start': 43.2,\n",
              "  'text': 'and algorithms and make\\nthem useful by way'},\n",
              " {'duration': 1.19, 'start': 45.91, 'text': 'of common metaphor'},\n",
              " {'duration': 3.0,\n",
              "  'start': 47.1,\n",
              "  'text': 'who will use machine learning\\nand all of its products'},\n",
              " {'duration': 4.1,\n",
              "  'start': 50.1,\n",
              "  'text': 'to improve the search engine\\nthe translation image captioning'},\n",
              " {'duration': 3.458,\n",
              "  'start': 54.2,\n",
              "  'text': 'or the recommendations to give\\nyou a concrete example,'},\n",
              " {'duration': 3.715,\n",
              "  'start': 57.658,\n",
              "  'text': 'Google users can experience\\na faster and more refined search'},\n",
              " {'duration': 1.827, 'start': 61.373, 'text': 'with artificial intelligence.'},\n",
              " {'duration': 3.042,\n",
              "  'start': 63.2,\n",
              "  'text': 'If the user types a keyword\\nin the search bar Google'},\n",
              " {'duration': 3.758,\n",
              "  'start': 66.242,\n",
              "  'text': 'provides a recommendation about\\nwhat could be the next world not'},\n",
              " {'duration': 2.6,\n",
              "  'start': 70.0,\n",
              "  'text': 'as a flow is being used\\nby a lot of Companies'},\n",
              " {'duration': 2.562,\n",
              "  'start': 72.6,\n",
              "  'text': 'in the industries and\\nto name a few first'},\n",
              " {'duration': 1.454, 'start': 75.162, 'text': \"let's start with Airbnb,\"},\n",
              " {'duration': 2.284,\n",
              "  'start': 76.616,\n",
              "  'text': 'the leading Global\\nOnline Marketplace'},\n",
              " {'duration': 1.6, 'start': 78.9, 'text': 'and Hospitality service.'},\n",
              " {'duration': 2.411,\n",
              "  'start': 80.5,\n",
              "  'text': 'The Airbnb ingenious\\nand data science team'},\n",
              " {'duration': 1.467, 'start': 82.911, 'text': 'applies machine learning'},\n",
              " {'duration': 2.422,\n",
              "  'start': 84.378,\n",
              "  'text': 'using tensorflow to\\nclassify the images'},\n",
              " {'duration': 1.19, 'start': 86.8, 'text': 'and detect objects'},\n",
              " {'duration': 3.11,\n",
              "  'start': 87.99,\n",
              "  'text': 'at scale helping to improve\\nthe guest experience'},\n",
              " {'duration': 0.794, 'start': 91.1, 'text': 'and we talked'},\n",
              " {'duration': 3.706,\n",
              "  'start': 91.894,\n",
              "  'text': 'about the healthcare industry\\nusing tensorflow GE Healthcare'},\n",
              " {'duration': 3.8,\n",
              "  'start': 95.6,\n",
              "  'text': 'is training a neural network\\nto identify specific anatomic'},\n",
              " {'duration': 3.106,\n",
              "  'start': 99.4,\n",
              "  'text': 'during the brain MRI exam\\nto help improve speed'},\n",
              " {'duration': 3.702,\n",
              "  'start': 102.506,\n",
              "  'text': 'and reliability now PayPal\\nis using it as a flow to stay'},\n",
              " {'duration': 1.177, 'start': 106.208, 'text': 'at The Cutting Edge'},\n",
              " {'duration': 1.12, 'start': 107.385, 'text': 'of fraud detection'},\n",
              " {'duration': 2.374,\n",
              "  'start': 108.505,\n",
              "  'text': 'using tensorflow deep\\ntrance for Learning'},\n",
              " {'duration': 1.751,\n",
              "  'start': 110.879,\n",
              "  'text': 'and Generator modeling PayPal'},\n",
              " {'duration': 1.57, 'start': 112.63, 'text': 'has been able to recognize'},\n",
              " {'duration': 3.7,\n",
              "  'start': 114.2,\n",
              "  'text': 'complex fraud patterns to\\nincrease fraud decline accuracy'},\n",
              " {'duration': 3.231,\n",
              "  'start': 117.9,\n",
              "  'text': 'while improving the experience\\nof legitimate users'},\n",
              " {'duration': 2.969,\n",
              "  'start': 121.131,\n",
              "  'text': 'through increased Precision\\nin identification.'},\n",
              " {'duration': 3.7,\n",
              "  'start': 124.1,\n",
              "  'text': 'China mobile is using tensorflow\\nto improve their success rate'},\n",
              " {'duration': 2.63,\n",
              "  'start': 127.8,\n",
              "  'text': 'of the network element\\ncut overs Channel'},\n",
              " {'duration': 3.211,\n",
              "  'start': 130.43,\n",
              "  'text': 'while has created\\na deep Fist amusing tensorflow'},\n",
              " {'duration': 3.759,\n",
              "  'start': 133.641,\n",
              "  'text': 'that can automatically predicts\\nthe cut over time window'},\n",
              " {'duration': 1.6, 'start': 137.4, 'text': 'verify log operations'},\n",
              " {'duration': 2.1, 'start': 139.0, 'text': 'and detect Network anomalies'},\n",
              " {'duration': 2.9,\n",
              "  'start': 141.1,\n",
              "  'text': 'and this has already\\nsuccessfully supported'},\n",
              " {'duration': 5.0,\n",
              "  'start': 144.0,\n",
              "  'text': \"the world's largest relocation\\nof hundreds of millions iot HSS.\"},\n",
              " {'duration': 2.258,\n",
              "  'start': 149.4,\n",
              "  'text': \"Let's talk about\\nthe tensorflow feature.\"},\n",
              " {'duration': 2.942,\n",
              "  'start': 151.658,\n",
              "  'text': 'What makes it stand out\\nfrom the other competition.'},\n",
              " {'duration': 2.794,\n",
              "  'start': 154.6,\n",
              "  'text': 'So Tessa flow offers\\nmultiple level of abstractions,'},\n",
              " {'duration': 2.706,\n",
              "  'start': 157.394,\n",
              "  'text': 'so you can choose\\nthe right one for your needs.'},\n",
              " {'duration': 0.7, 'start': 160.1, 'text': 'You can build'},\n",
              " {'duration': 3.0,\n",
              "  'start': 160.8,\n",
              "  'text': \"and train models by using\\nthe high-level Kira's API,\"},\n",
              " {'duration': 1.499, 'start': 163.9, 'text': 'which makes getting started'},\n",
              " {'duration': 3.001,\n",
              "  'start': 165.399,\n",
              "  'text': 'with tensorflow and machine\\nlearning very very easy.'},\n",
              " {'duration': 3.401,\n",
              "  'start': 168.4,\n",
              "  'text': 'If you need more flexibility\\nIker execution allows'},\n",
              " {'duration': 3.299,\n",
              "  'start': 171.801,\n",
              "  'text': 'for immediate iteration\\nand intuitive debugging'},\n",
              " {'duration': 1.9, 'start': 175.1, 'text': 'when you enable eager execution,'},\n",
              " {'duration': 3.0,\n",
              "  'start': 177.0,\n",
              "  'text': 'you will be executing\\ntensorflow kernels immediately'},\n",
              " {'duration': 1.78, 'start': 180.0, 'text': 'rather than constructing graphs'},\n",
              " {'duration': 2.592,\n",
              "  'start': 181.78,\n",
              "  'text': 'that will be executed\\nlater know it provides'},\n",
              " {'duration': 1.626, 'start': 184.372, 'text': 'a direct path to protection'},\n",
              " {'duration': 2.502,\n",
              "  'start': 185.998,\n",
              "  'text': \"whether it's on servos\\nthe S devices\"},\n",
              " {'duration': 3.307,\n",
              "  'start': 188.5,\n",
              "  'text': 'or the web tensorflow lets\\nyou train and deploy your model.'},\n",
              " {'duration': 1.765,\n",
              "  'start': 191.807,\n",
              "  'text': 'Really no matter what language'},\n",
              " {'duration': 2.283,\n",
              "  'start': 193.572,\n",
              "  'text': 'or the platform you\\nare using you can build'},\n",
              " {'duration': 3.045,\n",
              "  'start': 195.855,\n",
              "  'text': 'and train the state-of-the-art\\nmodels without sacrificing'},\n",
              " {'duration': 1.2, 'start': 198.9, 'text': 'speed or performance.'},\n",
              " {'duration': 2.1,\n",
              "  'start': 200.1,\n",
              "  'text': \"That's the flow gives\\nyou the flexibility\"},\n",
              " {'duration': 4.1,\n",
              "  'start': 202.2,\n",
              "  'text': \"and the control with features\\nlike Kira's functional API\"},\n",
              " {'duration': 2.633,\n",
              "  'start': 206.3,\n",
              "  'text': 'and model subclassing\\nAPA for creation'},\n",
              " {'duration': 1.567, 'start': 208.933, 'text': 'of complex topologies.'},\n",
              " {'duration': 2.764,\n",
              "  'start': 210.5,\n",
              "  'text': \"There's a flow also\\nsupports an ecosystem\"},\n",
              " {'duration': 1.936, 'start': 213.264, 'text': 'of powerful add on libraries'},\n",
              " {'duration': 3.192,\n",
              "  'start': 215.2,\n",
              "  'text': 'and models to experiment\\nwith the tisza flows name'},\n",
              " {'duration': 2.608,\n",
              "  'start': 218.392,\n",
              "  'text': 'directly derived from\\nits core framework.'},\n",
              " {'duration': 3.2,\n",
              "  'start': 221.0,\n",
              "  'text': 'It does a flow all\\nthe computation involves tensor.'},\n",
              " {'duration': 3.63,\n",
              "  'start': 224.2,\n",
              "  'text': 'So a tensor is a vector\\nor a matrix of n Dimensions'},\n",
              " {'duration': 3.993,\n",
              "  'start': 227.83,\n",
              "  'text': 'that represents the type all\\nthe operations are conducted'},\n",
              " {'duration': 3.637,\n",
              "  'start': 231.823,\n",
              "  'text': 'inside a graph and the graph\\nis set of a computation'},\n",
              " {'duration': 2.124,\n",
              "  'start': 235.46,\n",
              "  'text': 'that takes place successively.'},\n",
              " {'duration': 2.443,\n",
              "  'start': 237.584,\n",
              "  'text': 'Each operation is\\ncalled an open note'},\n",
              " {'duration': 2.173,\n",
              "  'start': 240.027,\n",
              "  'text': 'and are connected to each other.'},\n",
              " {'duration': 2.409,\n",
              "  'start': 242.2,\n",
              "  'text': \"There's a flow allows\\nthe developers to create\"},\n",
              " {'duration': 2.491,\n",
              "  'start': 244.609,\n",
              "  'text': 'a data flow graphs\\nwhich are structures'},\n",
              " {'duration': 3.421,\n",
              "  'start': 247.1,\n",
              "  'text': 'that describe how the data move\\nthrough a graph or a series'},\n",
              " {'duration': 1.204, 'start': 250.521, 'text': 'of processing nodes.'},\n",
              " {'duration': 1.294, 'start': 251.725, 'text': 'Each node in the graph'},\n",
              " {'duration': 3.261,\n",
              "  'start': 253.019,\n",
              "  'text': 'represents a mathematical\\noperation and each connection'},\n",
              " {'duration': 3.52,\n",
              "  'start': 256.28,\n",
              "  'text': 'or Edge between the notes is\\na multi-dimensional data array'},\n",
              " {'duration': 2.522,\n",
              "  'start': 259.8,\n",
              "  'text': 'or tensile test flow\\nprovides all of this'},\n",
              " {'duration': 1.561, 'start': 262.322, 'text': 'for the programmer by way'},\n",
              " {'duration': 3.265,\n",
              "  'start': 263.883,\n",
              "  'text': 'of the Python language\\nby then is easy to learn'},\n",
              " {'duration': 3.352,\n",
              "  'start': 267.148,\n",
              "  'text': 'and work with and provides\\nconvenient ways to express'},\n",
              " {'duration': 3.7,\n",
              "  'start': 270.5,\n",
              "  'text': 'how high-level abstraction\\ncan be coupled together notes'},\n",
              " {'duration': 3.1,\n",
              "  'start': 274.2,\n",
              "  'text': 'and the tensor in the tensorflow\\nour python objects.'},\n",
              " {'duration': 2.4,\n",
              "  'start': 277.3,\n",
              "  'text': \"And there's a flow\\napplications are themselves\"},\n",
              " {'duration': 1.164, 'start': 279.7, 'text': 'quite an application.'},\n",
              " {'duration': 3.236,\n",
              "  'start': 280.864,\n",
              "  'text': 'Now the actual math operations\\nhowever are not performed'},\n",
              " {'duration': 1.429, 'start': 284.1, 'text': 'in Python the libraries'},\n",
              " {'duration': 3.871,\n",
              "  'start': 285.529,\n",
              "  'text': 'of transformation data available\\nthrough tears flow are written'},\n",
              " {'duration': 4.189,\n",
              "  'start': 289.4,\n",
              "  'text': 'as high performance C++ binaries\\npython just directs the traffic'},\n",
              " {'duration': 1.111, 'start': 293.589, 'text': 'between the pieces'},\n",
              " {'duration': 3.238,\n",
              "  'start': 294.7,\n",
              "  'text': 'and provides high level\\nprogramming attraction to hook'},\n",
              " {'duration': 2.262,\n",
              "  'start': 297.938,\n",
              "  'text': 'them together now\\nbuilding a new rail.'},\n",
              " {'duration': 2.3,\n",
              "  'start': 300.2,\n",
              "  'text': 'It works cannot get\\nany more simpler.'},\n",
              " {'duration': 1.4, 'start': 302.5, 'text': 'Usually any machine learning'},\n",
              " {'duration': 2.869,\n",
              "  'start': 303.9,\n",
              "  'text': 'or deep learning process\\nhas some similar steps,'},\n",
              " {'duration': 2.931,\n",
              "  'start': 306.769,\n",
              "  'text': 'but in this case of terms\\nof flow it is so simple'},\n",
              " {'duration': 4.4,\n",
              "  'start': 309.7,\n",
              "  'text': 'any typical machine learning\\nlife Lord any process has some'},\n",
              " {'duration': 1.4, 'start': 314.1, 'text': 'of the steps like collection'},\n",
              " {'duration': 3.7,\n",
              "  'start': 315.5,\n",
              "  'text': 'of data set than building\\nthe model training the network'},\n",
              " {'duration': 1.5, 'start': 319.2, 'text': 'evaluating the model'},\n",
              " {'duration': 3.3,\n",
              "  'start': 320.7,\n",
              "  'text': 'and then predicting the outcome\\nin case of tensorflow.'},\n",
              " {'duration': 2.558,\n",
              "  'start': 324.0,\n",
              "  'text': 'Most of the time is occupied\\nin the collection'},\n",
              " {'duration': 3.242,\n",
              "  'start': 326.558,\n",
              "  'text': 'of data set now building a model\\nrequires only a few lines'},\n",
              " {'duration': 1.086, 'start': 329.8, 'text': 'of code training.'},\n",
              " {'duration': 3.576,\n",
              "  'start': 330.886,\n",
              "  'text': 'The network is just a single\\nline evaluating the network'},\n",
              " {'duration': 3.838,\n",
              "  'start': 334.462,\n",
              "  'text': 'or the model itself is a single\\nline of code and predicting.'},\n",
              " {'duration': 3.6,\n",
              "  'start': 338.3,\n",
              "  'text': 'The model is also a single line\\nof code now training'},\n",
              " {'duration': 3.4,\n",
              "  'start': 341.9,\n",
              "  'text': 'a neural network cannot get\\nany more easier than this'},\n",
              " {'duration': 2.5,\n",
              "  'start': 345.3,\n",
              "  'text': 'and that is why it is\\nthe flow remains at the top'},\n",
              " {'duration': 2.3,\n",
              "  'start': 347.8,\n",
              "  'text': 'when compared to\\nthe other competitors.'},\n",
              " {'duration': 1.6, 'start': 350.1, 'text': \"Now, that's a for competes\"},\n",
              " {'duration': 3.343,\n",
              "  'start': 351.7,\n",
              "  'text': 'with a slew of other machine\\nlearning Frameworks like python'},\n",
              " {'duration': 1.005, 'start': 355.043, 'text': 'or C. NT K and M.'},\n",
              " {'duration': 2.588,\n",
              "  'start': 356.048,\n",
              "  'text': 'And next these are\\nthe three major Frameworks'},\n",
              " {'duration': 2.216,\n",
              "  'start': 358.636,\n",
              "  'text': 'that address many\\nof the same needs now'},\n",
              " {'duration': 2.648,\n",
              "  'start': 360.852,\n",
              "  'text': 'pie torch in addition\\nto being built in Python'},\n",
              " {'duration': 1.846, 'start': 363.5, 'text': 'and as many other similarities'},\n",
              " {'duration': 2.957,\n",
              "  'start': 365.346,\n",
              "  'text': 'to tensorflow the hardware\\naccelerated components'},\n",
              " {'duration': 3.297,\n",
              "  'start': 368.303,\n",
              "  'text': 'under the hood a highly\\ninteractive development model'},\n",
              " {'duration': 1.4, 'start': 371.6, 'text': 'that allows for Designing'},\n",
              " {'duration': 4.3,\n",
              "  'start': 373.0,\n",
              "  'text': 'as you go work and many useful\\ncomponents are already included.'},\n",
              " {'duration': 2.1,\n",
              "  'start': 377.3,\n",
              "  'text': 'Now PyTorch is\\ngenerally a better choice'},\n",
              " {'duration': 1.9, 'start': 379.4, 'text': 'for fast development of projects'},\n",
              " {'duration': 2.7,\n",
              "  'start': 381.3,\n",
              "  'text': 'that need to be up\\nand running in a short time'},\n",
              " {'duration': 2.902,\n",
              "  'start': 384.0,\n",
              "  'text': 'but tensorflow wins out\\nfor larger projects'},\n",
              " {'duration': 1.798, 'start': 386.902, 'text': 'and more complex workflows'},\n",
              " {'duration': 2.7,\n",
              "  'start': 388.7,\n",
              "  'text': 'CNTK the Microsoft\\ncognitive toolkit,'},\n",
              " {'duration': 2.2,\n",
              "  'start': 391.4,\n",
              "  'text': 'like tensorflow uses\\na graph structure'},\n",
              " {'duration': 1.3, 'start': 393.6, 'text': 'to describe the data flow,'},\n",
              " {'duration': 1.3, 'start': 394.9, 'text': 'but it focuses more'},\n",
              " {'duration': 3.3,\n",
              "  'start': 396.2,\n",
              "  'text': 'on creating deep learning\\nneural network siente que'},\n",
              " {'duration': 4.1,\n",
              "  'start': 399.5,\n",
              "  'text': 'handles many neural network jobs\\nfaster and has a broader set'},\n",
              " {'duration': 3.416, 'start': 403.6, 'text': 'of apis for python C++ C sharp'},\n",
              " {'duration': 3.923,\n",
              "  'start': 407.016,\n",
              "  'text': \"and Java but C NT K\\nisn't currently as easy to learn\"},\n",
              " {'duration': 1.961, 'start': 410.939, 'text': 'or deployed as tensorflow.'},\n",
              " {'duration': 1.782, 'start': 412.9, 'text': 'No talking about Apache MXNet'},\n",
              " {'duration': 3.118,\n",
              "  'start': 414.682,\n",
              "  'text': 'adopted by Amazon as a premier\\ndeep learning framework'},\n",
              " {'duration': 3.0, 'start': 417.8, 'text': 'on AWS can scale almost linearly'},\n",
              " {'duration': 3.1,\n",
              "  'start': 420.8,\n",
              "  'text': 'across multiple gpus\\nand multiple machine.'},\n",
              " {'duration': 1.5, 'start': 423.9, 'text': 'It also supports a broad range'},\n",
              " {'duration': 2.6,\n",
              "  'start': 425.4,\n",
              "  'text': 'of languages API\\nlike python C++.'},\n",
              " {'duration': 4.3, 'start': 428.0, 'text': 'scala R JavaScript\\nJulia and go'},\n",
              " {'duration': 3.0,\n",
              "  'start': 432.4,\n",
              "  'text': 'although its native a parent\\nas pleasant to work'},\n",
              " {'duration': 1.228, 'start': 435.4, 'text': 'with as tensorflow.'},\n",
              " {'duration': 2.468,\n",
              "  'start': 436.628,\n",
              "  'text': 'It is also in the\\nmarket another thing'},\n",
              " {'duration': 3.949,\n",
              "  'start': 439.096,\n",
              "  'text': 'that gives tensorflow Edge over\\nother competitors is the fact'},\n",
              " {'duration': 3.555,\n",
              "  'start': 443.045,\n",
              "  'text': 'that it is open source and has\\na huge Community Support'},\n",
              " {'duration': 2.3,\n",
              "  'start': 446.6,\n",
              "  'text': 'that not only provides\\nresearchers a way'},\n",
              " {'duration': 1.0, 'start': 448.9, 'text': 'to build new models,'},\n",
              " {'duration': 2.8,\n",
              "  'start': 449.9,\n",
              "  'text': 'but also a platform\\nto interact with others'},\n",
              " {'duration': 1.4, 'start': 452.7, 'text': 'that face some issues'},\n",
              " {'duration': 2.8,\n",
              "  'start': 454.1,\n",
              "  'text': 'if we talk about a simple\\nprogram in terms of flow.'},\n",
              " {'duration': 3.4,\n",
              "  'start': 456.9,\n",
              "  'text': 'So any program basically\\nconsists of a construction phase'},\n",
              " {'duration': 3.382,\n",
              "  'start': 460.3,\n",
              "  'text': 'and then an execution phase\\nthe construction phase'},\n",
              " {'duration': 2.91,\n",
              "  'start': 463.682,\n",
              "  'text': 'where you build a graph\\nand execution phase is'},\n",
              " {'duration': 2.108,\n",
              "  'start': 466.592,\n",
              "  'text': 'where you need\\nto evaluate the graph'},\n",
              " {'duration': 3.6,\n",
              "  'start': 468.7,\n",
              "  'text': 'and then create a session then\\ninitialize all the variables.'},\n",
              " {'duration': 1.9,\n",
              "  'start': 472.3,\n",
              "  'text': 'So as you can see\\nhere in the example'},\n",
              " {'duration': 3.648,\n",
              "  'start': 474.2,\n",
              "  'text': 'of geometric sequencing it\\nis so easy to execute and'},\n",
              " {'duration': 2.152,\n",
              "  'start': 477.848,\n",
              "  'text': 'if this is also hard for you,'},\n",
              " {'duration': 3.138,\n",
              "  'start': 480.0,\n",
              "  'text': \"there's a float\\n2.0 the latest release makes\"},\n",
              " {'duration': 4.162,\n",
              "  'start': 483.138,\n",
              "  'text': 'this even easier to code it\\nhas eager execution by default'},\n",
              " {'duration': 2.9,\n",
              "  'start': 487.3,\n",
              "  'text': 'which makes things so\\nmuch simpler and easier.'},\n",
              " {'duration': 1.7,\n",
              "  'start': 490.2,\n",
              "  'text': 'So as you can see\\nwith either X You'},\n",
              " {'duration': 3.436,\n",
              "  'start': 491.9,\n",
              "  'text': 'should our program has a strong\\nto a few lines of code.'},\n",
              " {'duration': 2.185,\n",
              "  'start': 495.336,\n",
              "  'text': \"So guys, that's it\\nfor the session.\"},\n",
              " {'duration': 3.279,\n",
              "  'start': 497.521,\n",
              "  'text': 'I hope you got to know\\ntensorflow what exactly it is'},\n",
              " {'duration': 2.4, 'start': 500.8, 'text': 'and how useful it is go ahead'},\n",
              " {'duration': 0.981, 'start': 503.2, 'text': 'and create your own'},\n",
              " {'duration': 2.219,\n",
              "  'start': 504.181,\n",
              "  'text': 'deep learning models\\nand see for yourself.'},\n",
              " {'duration': 3.493,\n",
              "  'start': 506.4,\n",
              "  'text': 'What an incredible framework\\nthis is till then thank you'},\n",
              " {'duration': 1.207, 'start': 509.893, 'text': 'and happy learning.'},\n",
              " {'duration': 2.9,\n",
              "  'start': 511.1,\n",
              "  'text': 'I hope you have enjoyed\\nlistening to this video.'},\n",
              " {'duration': 2.014,\n",
              "  'start': 514.0,\n",
              "  'text': 'Please be kind enough to like it'},\n",
              " {'duration': 3.086,\n",
              "  'start': 516.014,\n",
              "  'text': 'and you can comment any\\nof your doubts and queries'},\n",
              " {'duration': 1.444, 'start': 519.1, 'text': 'and we will reply them'},\n",
              " {'duration': 3.756,\n",
              "  'start': 520.544,\n",
              "  'text': 'at the earliest do look out\\nfor more videos in our playlist'},\n",
              " {'duration': 3.3,\n",
              "  'start': 524.3,\n",
              "  'text': 'And subscribe to Edureka channel to learn more.'},\n",
              " {'duration': 0.9, 'start': 527.6, 'text': 'Happy learning.'}]"
            ]
          },
          "metadata": {},
          "execution_count": 35
        }
      ]
    },
    {
      "cell_type": "code",
      "source": [
        "doc = \"\"\n",
        "for line in transcript:\n",
        "    doc =doc+ ' ' + line['text']\n",
        "print(type(doc))\n",
        "print(doc)\n",
        "#print(len(result))"
      ],
      "metadata": {
        "colab": {
          "base_uri": "https://localhost:8080/"
        },
        "id": "wowkC2jaBchb",
        "outputId": "2d6a057d-dc02-486d-cc4e-46f3f6454a74"
      },
      "execution_count": 36,
      "outputs": [
        {
          "output_type": "stream",
          "name": "stdout",
          "text": [
            "<class 'str'>\n",
            " Machine learning is\n",
            "a complex discipline but implementing machine\n",
            "learning models is far less daunting and difficult than it used to be. Thanks to machine learning Frameworks\n",
            "such as Google's TensorFlow that ease the process of acquiring data, training model,\n",
            "solving predictions and refining future\n",
            "results. Created by the Google brain team tensorflow\n",
            "is an open source library for numerical computation and large scale machine learning.\n",
            "Tensorflow bundles together a study of machine learning and deep learning models and algorithms and make\n",
            "them useful by way of common metaphor who will use machine learning\n",
            "and all of its products to improve the search engine\n",
            "the translation image captioning or the recommendations to give\n",
            "you a concrete example, Google users can experience\n",
            "a faster and more refined search with artificial intelligence. If the user types a keyword\n",
            "in the search bar Google provides a recommendation about\n",
            "what could be the next world not as a flow is being used\n",
            "by a lot of Companies in the industries and\n",
            "to name a few first let's start with Airbnb, the leading Global\n",
            "Online Marketplace and Hospitality service. The Airbnb ingenious\n",
            "and data science team applies machine learning using tensorflow to\n",
            "classify the images and detect objects at scale helping to improve\n",
            "the guest experience and we talked about the healthcare industry\n",
            "using tensorflow GE Healthcare is training a neural network\n",
            "to identify specific anatomic during the brain MRI exam\n",
            "to help improve speed and reliability now PayPal\n",
            "is using it as a flow to stay at The Cutting Edge of fraud detection using tensorflow deep\n",
            "trance for Learning and Generator modeling PayPal has been able to recognize complex fraud patterns to\n",
            "increase fraud decline accuracy while improving the experience\n",
            "of legitimate users through increased Precision\n",
            "in identification. China mobile is using tensorflow\n",
            "to improve their success rate of the network element\n",
            "cut overs Channel while has created\n",
            "a deep Fist amusing tensorflow that can automatically predicts\n",
            "the cut over time window verify log operations and detect Network anomalies and this has already\n",
            "successfully supported the world's largest relocation\n",
            "of hundreds of millions iot HSS. Let's talk about\n",
            "the tensorflow feature. What makes it stand out\n",
            "from the other competition. So Tessa flow offers\n",
            "multiple level of abstractions, so you can choose\n",
            "the right one for your needs. You can build and train models by using\n",
            "the high-level Kira's API, which makes getting started with tensorflow and machine\n",
            "learning very very easy. If you need more flexibility\n",
            "Iker execution allows for immediate iteration\n",
            "and intuitive debugging when you enable eager execution, you will be executing\n",
            "tensorflow kernels immediately rather than constructing graphs that will be executed\n",
            "later know it provides a direct path to protection whether it's on servos\n",
            "the S devices or the web tensorflow lets\n",
            "you train and deploy your model. Really no matter what language or the platform you\n",
            "are using you can build and train the state-of-the-art\n",
            "models without sacrificing speed or performance. That's the flow gives\n",
            "you the flexibility and the control with features\n",
            "like Kira's functional API and model subclassing\n",
            "APA for creation of complex topologies. There's a flow also\n",
            "supports an ecosystem of powerful add on libraries and models to experiment\n",
            "with the tisza flows name directly derived from\n",
            "its core framework. It does a flow all\n",
            "the computation involves tensor. So a tensor is a vector\n",
            "or a matrix of n Dimensions that represents the type all\n",
            "the operations are conducted inside a graph and the graph\n",
            "is set of a computation that takes place successively. Each operation is\n",
            "called an open note and are connected to each other. There's a flow allows\n",
            "the developers to create a data flow graphs\n",
            "which are structures that describe how the data move\n",
            "through a graph or a series of processing nodes. Each node in the graph represents a mathematical\n",
            "operation and each connection or Edge between the notes is\n",
            "a multi-dimensional data array or tensile test flow\n",
            "provides all of this for the programmer by way of the Python language\n",
            "by then is easy to learn and work with and provides\n",
            "convenient ways to express how high-level abstraction\n",
            "can be coupled together notes and the tensor in the tensorflow\n",
            "our python objects. And there's a flow\n",
            "applications are themselves quite an application. Now the actual math operations\n",
            "however are not performed in Python the libraries of transformation data available\n",
            "through tears flow are written as high performance C++ binaries\n",
            "python just directs the traffic between the pieces and provides high level\n",
            "programming attraction to hook them together now\n",
            "building a new rail. It works cannot get\n",
            "any more simpler. Usually any machine learning or deep learning process\n",
            "has some similar steps, but in this case of terms\n",
            "of flow it is so simple any typical machine learning\n",
            "life Lord any process has some of the steps like collection of data set than building\n",
            "the model training the network evaluating the model and then predicting the outcome\n",
            "in case of tensorflow. Most of the time is occupied\n",
            "in the collection of data set now building a model\n",
            "requires only a few lines of code training. The network is just a single\n",
            "line evaluating the network or the model itself is a single\n",
            "line of code and predicting. The model is also a single line\n",
            "of code now training a neural network cannot get\n",
            "any more easier than this and that is why it is\n",
            "the flow remains at the top when compared to\n",
            "the other competitors. Now, that's a for competes with a slew of other machine\n",
            "learning Frameworks like python or C. NT K and M. And next these are\n",
            "the three major Frameworks that address many\n",
            "of the same needs now pie torch in addition\n",
            "to being built in Python and as many other similarities to tensorflow the hardware\n",
            "accelerated components under the hood a highly\n",
            "interactive development model that allows for Designing as you go work and many useful\n",
            "components are already included. Now PyTorch is\n",
            "generally a better choice for fast development of projects that need to be up\n",
            "and running in a short time but tensorflow wins out\n",
            "for larger projects and more complex workflows CNTK the Microsoft\n",
            "cognitive toolkit, like tensorflow uses\n",
            "a graph structure to describe the data flow, but it focuses more on creating deep learning\n",
            "neural network siente que handles many neural network jobs\n",
            "faster and has a broader set of apis for python C++ C sharp and Java but C NT K\n",
            "isn't currently as easy to learn or deployed as tensorflow. No talking about Apache MXNet adopted by Amazon as a premier\n",
            "deep learning framework on AWS can scale almost linearly across multiple gpus\n",
            "and multiple machine. It also supports a broad range of languages API\n",
            "like python C++. scala R JavaScript\n",
            "Julia and go although its native a parent\n",
            "as pleasant to work with as tensorflow. It is also in the\n",
            "market another thing that gives tensorflow Edge over\n",
            "other competitors is the fact that it is open source and has\n",
            "a huge Community Support that not only provides\n",
            "researchers a way to build new models, but also a platform\n",
            "to interact with others that face some issues if we talk about a simple\n",
            "program in terms of flow. So any program basically\n",
            "consists of a construction phase and then an execution phase\n",
            "the construction phase where you build a graph\n",
            "and execution phase is where you need\n",
            "to evaluate the graph and then create a session then\n",
            "initialize all the variables. So as you can see\n",
            "here in the example of geometric sequencing it\n",
            "is so easy to execute and if this is also hard for you, there's a float\n",
            "2.0 the latest release makes this even easier to code it\n",
            "has eager execution by default which makes things so\n",
            "much simpler and easier. So as you can see\n",
            "with either X You should our program has a strong\n",
            "to a few lines of code. So guys, that's it\n",
            "for the session. I hope you got to know\n",
            "tensorflow what exactly it is and how useful it is go ahead and create your own deep learning models\n",
            "and see for yourself. What an incredible framework\n",
            "this is till then thank you and happy learning. I hope you have enjoyed\n",
            "listening to this video. Please be kind enough to like it and you can comment any\n",
            "of your doubts and queries and we will reply them at the earliest do look out\n",
            "for more videos in our playlist And subscribe to Edureka channel to learn more. Happy learning.\n"
          ]
        }
      ]
    },
    {
      "cell_type": "code",
      "source": [
        "doc=[]\n",
        "for line in transcript:\n",
        "  if \"\\n\" in line['text']:\n",
        "    x=line['text'].replace(\"\\n\",\" \")\n",
        "    doc.append(x)\n",
        "  else:\n",
        "    doc.append(line['text'])\n",
        "print(doc)"
      ],
      "metadata": {
        "colab": {
          "base_uri": "https://localhost:8080/"
        },
        "id": "9Ya8VEuUFTTE",
        "outputId": "783b0aa0-0cac-4a08-845c-6723f98d92c6"
      },
      "execution_count": 37,
      "outputs": [
        {
          "output_type": "stream",
          "name": "stdout",
          "text": [
            "['Machine learning is a complex discipline', 'but implementing machine learning models is far', 'less daunting and difficult', 'than it used to be. Thanks', \"to machine learning Frameworks such as Google's TensorFlow\", 'that ease the process', 'of acquiring data, training model, solving predictions', 'and refining future results. Created by', 'the Google brain team tensorflow is an open source library', 'for numerical computation', 'and large scale machine learning. Tensorflow bundles together', 'a study of machine learning', 'and deep learning models', 'and algorithms and make them useful by way', 'of common metaphor', 'who will use machine learning and all of its products', 'to improve the search engine the translation image captioning', 'or the recommendations to give you a concrete example,', 'Google users can experience a faster and more refined search', 'with artificial intelligence.', 'If the user types a keyword in the search bar Google', 'provides a recommendation about what could be the next world not', 'as a flow is being used by a lot of Companies', 'in the industries and to name a few first', \"let's start with Airbnb,\", 'the leading Global Online Marketplace', 'and Hospitality service.', 'The Airbnb ingenious and data science team', 'applies machine learning', 'using tensorflow to classify the images', 'and detect objects', 'at scale helping to improve the guest experience', 'and we talked', 'about the healthcare industry using tensorflow GE Healthcare', 'is training a neural network to identify specific anatomic', 'during the brain MRI exam to help improve speed', 'and reliability now PayPal is using it as a flow to stay', 'at The Cutting Edge', 'of fraud detection', 'using tensorflow deep trance for Learning', 'and Generator modeling PayPal', 'has been able to recognize', 'complex fraud patterns to increase fraud decline accuracy', 'while improving the experience of legitimate users', 'through increased Precision in identification.', 'China mobile is using tensorflow to improve their success rate', 'of the network element cut overs Channel', 'while has created a deep Fist amusing tensorflow', 'that can automatically predicts the cut over time window', 'verify log operations', 'and detect Network anomalies', 'and this has already successfully supported', \"the world's largest relocation of hundreds of millions iot HSS.\", \"Let's talk about the tensorflow feature.\", 'What makes it stand out from the other competition.', 'So Tessa flow offers multiple level of abstractions,', 'so you can choose the right one for your needs.', 'You can build', \"and train models by using the high-level Kira's API,\", 'which makes getting started', 'with tensorflow and machine learning very very easy.', 'If you need more flexibility Iker execution allows', 'for immediate iteration and intuitive debugging', 'when you enable eager execution,', 'you will be executing tensorflow kernels immediately', 'rather than constructing graphs', 'that will be executed later know it provides', 'a direct path to protection', \"whether it's on servos the S devices\", 'or the web tensorflow lets you train and deploy your model.', 'Really no matter what language', 'or the platform you are using you can build', 'and train the state-of-the-art models without sacrificing', 'speed or performance.', \"That's the flow gives you the flexibility\", \"and the control with features like Kira's functional API\", 'and model subclassing APA for creation', 'of complex topologies.', \"There's a flow also supports an ecosystem\", 'of powerful add on libraries', 'and models to experiment with the tisza flows name', 'directly derived from its core framework.', 'It does a flow all the computation involves tensor.', 'So a tensor is a vector or a matrix of n Dimensions', 'that represents the type all the operations are conducted', 'inside a graph and the graph is set of a computation', 'that takes place successively.', 'Each operation is called an open note', 'and are connected to each other.', \"There's a flow allows the developers to create\", 'a data flow graphs which are structures', 'that describe how the data move through a graph or a series', 'of processing nodes.', 'Each node in the graph', 'represents a mathematical operation and each connection', 'or Edge between the notes is a multi-dimensional data array', 'or tensile test flow provides all of this', 'for the programmer by way', 'of the Python language by then is easy to learn', 'and work with and provides convenient ways to express', 'how high-level abstraction can be coupled together notes', 'and the tensor in the tensorflow our python objects.', \"And there's a flow applications are themselves\", 'quite an application.', 'Now the actual math operations however are not performed', 'in Python the libraries', 'of transformation data available through tears flow are written', 'as high performance C++ binaries python just directs the traffic', 'between the pieces', 'and provides high level programming attraction to hook', 'them together now building a new rail.', 'It works cannot get any more simpler.', 'Usually any machine learning', 'or deep learning process has some similar steps,', 'but in this case of terms of flow it is so simple', 'any typical machine learning life Lord any process has some', 'of the steps like collection', 'of data set than building the model training the network', 'evaluating the model', 'and then predicting the outcome in case of tensorflow.', 'Most of the time is occupied in the collection', 'of data set now building a model requires only a few lines', 'of code training.', 'The network is just a single line evaluating the network', 'or the model itself is a single line of code and predicting.', 'The model is also a single line of code now training', 'a neural network cannot get any more easier than this', 'and that is why it is the flow remains at the top', 'when compared to the other competitors.', \"Now, that's a for competes\", 'with a slew of other machine learning Frameworks like python', 'or C. NT K and M.', 'And next these are the three major Frameworks', 'that address many of the same needs now', 'pie torch in addition to being built in Python', 'and as many other similarities', 'to tensorflow the hardware accelerated components', 'under the hood a highly interactive development model', 'that allows for Designing', 'as you go work and many useful components are already included.', 'Now PyTorch is generally a better choice', 'for fast development of projects', 'that need to be up and running in a short time', 'but tensorflow wins out for larger projects', 'and more complex workflows', 'CNTK the Microsoft cognitive toolkit,', 'like tensorflow uses a graph structure', 'to describe the data flow,', 'but it focuses more', 'on creating deep learning neural network siente que', 'handles many neural network jobs faster and has a broader set', 'of apis for python C++ C sharp', \"and Java but C NT K isn't currently as easy to learn\", 'or deployed as tensorflow.', 'No talking about Apache MXNet', 'adopted by Amazon as a premier deep learning framework', 'on AWS can scale almost linearly', 'across multiple gpus and multiple machine.', 'It also supports a broad range', 'of languages API like python C++.', 'scala R JavaScript Julia and go', 'although its native a parent as pleasant to work', 'with as tensorflow.', 'It is also in the market another thing', 'that gives tensorflow Edge over other competitors is the fact', 'that it is open source and has a huge Community Support', 'that not only provides researchers a way', 'to build new models,', 'but also a platform to interact with others', 'that face some issues', 'if we talk about a simple program in terms of flow.', 'So any program basically consists of a construction phase', 'and then an execution phase the construction phase', 'where you build a graph and execution phase is', 'where you need to evaluate the graph', 'and then create a session then initialize all the variables.', 'So as you can see here in the example', 'of geometric sequencing it is so easy to execute and', 'if this is also hard for you,', \"there's a float 2.0 the latest release makes\", 'this even easier to code it has eager execution by default', 'which makes things so much simpler and easier.', 'So as you can see with either X You', 'should our program has a strong to a few lines of code.', \"So guys, that's it for the session.\", 'I hope you got to know tensorflow what exactly it is', 'and how useful it is go ahead', 'and create your own', 'deep learning models and see for yourself.', 'What an incredible framework this is till then thank you', 'and happy learning.', 'I hope you have enjoyed listening to this video.', 'Please be kind enough to like it', 'and you can comment any of your doubts and queries', 'and we will reply them', 'at the earliest do look out for more videos in our playlist', 'And subscribe to Edureka channel to learn more.', 'Happy learning.']\n"
          ]
        }
      ]
    },
    {
      "cell_type": "code",
      "source": [
        "paragraph=\" \".join(doc)\n",
        "print(paragraph)"
      ],
      "metadata": {
        "colab": {
          "base_uri": "https://localhost:8080/"
        },
        "id": "c6MAdtIUGwV_",
        "outputId": "d2a92100-fd72-4c30-a645-11a425eb90ac"
      },
      "execution_count": 38,
      "outputs": [
        {
          "output_type": "stream",
          "name": "stdout",
          "text": [
            "Machine learning is a complex discipline but implementing machine learning models is far less daunting and difficult than it used to be. Thanks to machine learning Frameworks such as Google's TensorFlow that ease the process of acquiring data, training model, solving predictions and refining future results. Created by the Google brain team tensorflow is an open source library for numerical computation and large scale machine learning. Tensorflow bundles together a study of machine learning and deep learning models and algorithms and make them useful by way of common metaphor who will use machine learning and all of its products to improve the search engine the translation image captioning or the recommendations to give you a concrete example, Google users can experience a faster and more refined search with artificial intelligence. If the user types a keyword in the search bar Google provides a recommendation about what could be the next world not as a flow is being used by a lot of Companies in the industries and to name a few first let's start with Airbnb, the leading Global Online Marketplace and Hospitality service. The Airbnb ingenious and data science team applies machine learning using tensorflow to classify the images and detect objects at scale helping to improve the guest experience and we talked about the healthcare industry using tensorflow GE Healthcare is training a neural network to identify specific anatomic during the brain MRI exam to help improve speed and reliability now PayPal is using it as a flow to stay at The Cutting Edge of fraud detection using tensorflow deep trance for Learning and Generator modeling PayPal has been able to recognize complex fraud patterns to increase fraud decline accuracy while improving the experience of legitimate users through increased Precision in identification. China mobile is using tensorflow to improve their success rate of the network element cut overs Channel while has created a deep Fist amusing tensorflow that can automatically predicts the cut over time window verify log operations and detect Network anomalies and this has already successfully supported the world's largest relocation of hundreds of millions iot HSS. Let's talk about the tensorflow feature. What makes it stand out from the other competition. So Tessa flow offers multiple level of abstractions, so you can choose the right one for your needs. You can build and train models by using the high-level Kira's API, which makes getting started with tensorflow and machine learning very very easy. If you need more flexibility Iker execution allows for immediate iteration and intuitive debugging when you enable eager execution, you will be executing tensorflow kernels immediately rather than constructing graphs that will be executed later know it provides a direct path to protection whether it's on servos the S devices or the web tensorflow lets you train and deploy your model. Really no matter what language or the platform you are using you can build and train the state-of-the-art models without sacrificing speed or performance. That's the flow gives you the flexibility and the control with features like Kira's functional API and model subclassing APA for creation of complex topologies. There's a flow also supports an ecosystem of powerful add on libraries and models to experiment with the tisza flows name directly derived from its core framework. It does a flow all the computation involves tensor. So a tensor is a vector or a matrix of n Dimensions that represents the type all the operations are conducted inside a graph and the graph is set of a computation that takes place successively. Each operation is called an open note and are connected to each other. There's a flow allows the developers to create a data flow graphs which are structures that describe how the data move through a graph or a series of processing nodes. Each node in the graph represents a mathematical operation and each connection or Edge between the notes is a multi-dimensional data array or tensile test flow provides all of this for the programmer by way of the Python language by then is easy to learn and work with and provides convenient ways to express how high-level abstraction can be coupled together notes and the tensor in the tensorflow our python objects. And there's a flow applications are themselves quite an application. Now the actual math operations however are not performed in Python the libraries of transformation data available through tears flow are written as high performance C++ binaries python just directs the traffic between the pieces and provides high level programming attraction to hook them together now building a new rail. It works cannot get any more simpler. Usually any machine learning or deep learning process has some similar steps, but in this case of terms of flow it is so simple any typical machine learning life Lord any process has some of the steps like collection of data set than building the model training the network evaluating the model and then predicting the outcome in case of tensorflow. Most of the time is occupied in the collection of data set now building a model requires only a few lines of code training. The network is just a single line evaluating the network or the model itself is a single line of code and predicting. The model is also a single line of code now training a neural network cannot get any more easier than this and that is why it is the flow remains at the top when compared to the other competitors. Now, that's a for competes with a slew of other machine learning Frameworks like python or C. NT K and M. And next these are the three major Frameworks that address many of the same needs now pie torch in addition to being built in Python and as many other similarities to tensorflow the hardware accelerated components under the hood a highly interactive development model that allows for Designing as you go work and many useful components are already included. Now PyTorch is generally a better choice for fast development of projects that need to be up and running in a short time but tensorflow wins out for larger projects and more complex workflows CNTK the Microsoft cognitive toolkit, like tensorflow uses a graph structure to describe the data flow, but it focuses more on creating deep learning neural network siente que handles many neural network jobs faster and has a broader set of apis for python C++ C sharp and Java but C NT K isn't currently as easy to learn or deployed as tensorflow. No talking about Apache MXNet adopted by Amazon as a premier deep learning framework on AWS can scale almost linearly across multiple gpus and multiple machine. It also supports a broad range of languages API like python C++. scala R JavaScript Julia and go although its native a parent as pleasant to work with as tensorflow. It is also in the market another thing that gives tensorflow Edge over other competitors is the fact that it is open source and has a huge Community Support that not only provides researchers a way to build new models, but also a platform to interact with others that face some issues if we talk about a simple program in terms of flow. So any program basically consists of a construction phase and then an execution phase the construction phase where you build a graph and execution phase is where you need to evaluate the graph and then create a session then initialize all the variables. So as you can see here in the example of geometric sequencing it is so easy to execute and if this is also hard for you, there's a float 2.0 the latest release makes this even easier to code it has eager execution by default which makes things so much simpler and easier. So as you can see with either X You should our program has a strong to a few lines of code. So guys, that's it for the session. I hope you got to know tensorflow what exactly it is and how useful it is go ahead and create your own deep learning models and see for yourself. What an incredible framework this is till then thank you and happy learning. I hope you have enjoyed listening to this video. Please be kind enough to like it and you can comment any of your doubts and queries and we will reply them at the earliest do look out for more videos in our playlist And subscribe to Edureka channel to learn more. Happy learning.\n"
          ]
        }
      ]
    },
    {
      "cell_type": "markdown",
      "source": [
        "#NLTK Summarization"
      ],
      "metadata": {
        "id": "gaLLBXX0jd7Z"
      }
    },
    {
      "cell_type": "code",
      "source": [
        "import nltk\n",
        "from nltk.corpus import stopwords\n",
        "from nltk.tokenize import word_tokenize, sent_tokenize"
      ],
      "metadata": {
        "id": "SzFWDH51jcsM"
      },
      "execution_count": 39,
      "outputs": []
    },
    {
      "cell_type": "code",
      "source": [
        "import nltk\n",
        "nltk.download('stopwords')"
      ],
      "metadata": {
        "colab": {
          "base_uri": "https://localhost:8080/"
        },
        "id": "YXJzNaBDksUt",
        "outputId": "3f535fe4-d5ec-49b1-dc10-eb6c8db11d26"
      },
      "execution_count": 40,
      "outputs": [
        {
          "output_type": "stream",
          "name": "stdout",
          "text": [
            "[nltk_data] Downloading package stopwords to /root/nltk_data...\n",
            "[nltk_data]   Package stopwords is already up-to-date!\n"
          ]
        },
        {
          "output_type": "execute_result",
          "data": {
            "text/plain": [
              "True"
            ]
          },
          "metadata": {},
          "execution_count": 40
        }
      ]
    },
    {
      "cell_type": "code",
      "source": [
        "import nltk\n",
        "nltk.download('punkt')"
      ],
      "metadata": {
        "colab": {
          "base_uri": "https://localhost:8080/"
        },
        "id": "N02VXSwUkzTp",
        "outputId": "2312641f-912b-4532-c8c3-3d5eed12b2e0"
      },
      "execution_count": 41,
      "outputs": [
        {
          "output_type": "stream",
          "name": "stdout",
          "text": [
            "[nltk_data] Downloading package punkt to /root/nltk_data...\n",
            "[nltk_data]   Package punkt is already up-to-date!\n"
          ]
        },
        {
          "output_type": "execute_result",
          "data": {
            "text/plain": [
              "True"
            ]
          },
          "metadata": {},
          "execution_count": 41
        }
      ]
    },
    {
      "cell_type": "code",
      "source": [
        "mytext= paragraph"
      ],
      "metadata": {
        "id": "iBOzeJyPj6Ix"
      },
      "execution_count": 42,
      "outputs": []
    },
    {
      "cell_type": "code",
      "source": [
        "stops = set(stopwords.words('english'))\n",
        "word_array = word_tokenize(mytext)\n",
        "\n",
        "wordfreq=dict()\n",
        "for word in word_array:\n",
        "  word=word.lower()\n",
        "  if word in stops:\n",
        "    continue\n",
        "  elif word in wordfreq:\n",
        "    wordfreq[word]+=1\n",
        "  else:\n",
        "    wordfreq[word]=1\n",
        "\n",
        "#word_array\n",
        "#frequencytable\n"
      ],
      "metadata": {
        "id": "FHU0mKM5kVKg"
      },
      "execution_count": 53,
      "outputs": []
    },
    {
      "cell_type": "code",
      "source": [
        "sent_array=sent_tokenize(mytext)\n",
        "\n",
        "sentfreq=dict()\n",
        "for sentence in sent_array:\n",
        "  for word,freq in wordfreq.items():\n",
        "    if word in sentence.lower():\n",
        "      if sentence in sentfreq:\n",
        "        sentfreq[sentence]+=freq\n",
        "      else:\n",
        "        sentfreq[sentence]=freq  \n",
        "\n",
        "#sentfreq"
      ],
      "metadata": {
        "id": "6AsqbiM_nREV"
      },
      "execution_count": 55,
      "outputs": []
    },
    {
      "cell_type": "code",
      "source": [
        "averageval=0\n",
        "for sentence in sentfreq:\n",
        "  averageval+=sentfreq[sentence]\n",
        "\n",
        "average=int(averageval/len(sentfreq))"
      ],
      "metadata": {
        "id": "FlAnw0h6ofLL"
      },
      "execution_count": 58,
      "outputs": []
    },
    {
      "cell_type": "code",
      "source": [
        "summary=''\n",
        "for sentence in sent_array:\n",
        "  if(sentence in sentfreq) and (sentfreq[sentence]>(1.5*average)):\n",
        "    summary=summary+\" \"+sentence\n",
        "print(summary)"
      ],
      "metadata": {
        "colab": {
          "base_uri": "https://localhost:8080/"
        },
        "id": "8yRpqRPZqEI2",
        "outputId": "b36f2da7-e654-4e69-9dd6-962384077a65"
      },
      "execution_count": 60,
      "outputs": [
        {
          "output_type": "stream",
          "name": "stdout",
          "text": [
            " Thanks to machine learning Frameworks such as Google's TensorFlow that ease the process of acquiring data, training model, solving predictions and refining future results. Tensorflow bundles together a study of machine learning and deep learning models and algorithms and make them useful by way of common metaphor who will use machine learning and all of its products to improve the search engine the translation image captioning or the recommendations to give you a concrete example, Google users can experience a faster and more refined search with artificial intelligence. The Airbnb ingenious and data science team applies machine learning using tensorflow to classify the images and detect objects at scale helping to improve the guest experience and we talked about the healthcare industry using tensorflow GE Healthcare is training a neural network to identify specific anatomic during the brain MRI exam to help improve speed and reliability now PayPal is using it as a flow to stay at The Cutting Edge of fraud detection using tensorflow deep trance for Learning and Generator modeling PayPal has been able to recognize complex fraud patterns to increase fraud decline accuracy while improving the experience of legitimate users through increased Precision in identification. You can build and train models by using the high-level Kira's API, which makes getting started with tensorflow and machine learning very very easy. If you need more flexibility Iker execution allows for immediate iteration and intuitive debugging when you enable eager execution, you will be executing tensorflow kernels immediately rather than constructing graphs that will be executed later know it provides a direct path to protection whether it's on servos the S devices or the web tensorflow lets you train and deploy your model. Usually any machine learning or deep learning process has some similar steps, but in this case of terms of flow it is so simple any typical machine learning life Lord any process has some of the steps like collection of data set than building the model training the network evaluating the model and then predicting the outcome in case of tensorflow. Now, that's a for competes with a slew of other machine learning Frameworks like python or C. NT K and M. And next these are the three major Frameworks that address many of the same needs now pie torch in addition to being built in Python and as many other similarities to tensorflow the hardware accelerated components under the hood a highly interactive development model that allows for Designing as you go work and many useful components are already included. Now PyTorch is generally a better choice for fast development of projects that need to be up and running in a short time but tensorflow wins out for larger projects and more complex workflows CNTK the Microsoft cognitive toolkit, like tensorflow uses a graph structure to describe the data flow, but it focuses more on creating deep learning neural network siente que handles many neural network jobs faster and has a broader set of apis for python C++ C sharp and Java but C NT K isn't currently as easy to learn or deployed as tensorflow.\n"
          ]
        }
      ]
    }
  ]
}

