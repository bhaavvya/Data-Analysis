{
 "cells": [
  {
   "cell_type": "code",
   "execution_count": 1,
   "id": "45b68240",
   "metadata": {},
   "outputs": [
    {
     "name": "stdout",
     "output_type": "stream",
     "text": [
      "Enter no. of elements\n",
      "5\n",
      "1\n",
      "2\n",
      "3\n",
      "4\n",
      "5\n",
      "['1', '2', '3', '4', '5']\n",
      "another list without duplicate is  ['1', '2', '3', '4', '5']\n"
     ]
    }
   ],
   "source": [
    "'''1] Write a python program to take list values as input parameters and returns another list without any duplicates.'''\n",
    "lst=[]\n",
    "n=int(input(\"Enter no. of elements\\n\"))\n",
    "l=[]\n",
    "a=[]\n",
    "for i in range(0,n):\n",
    "    l=input()\n",
    "    lst.append(l)\n",
    "print(lst)\n",
    "for i in lst:\n",
    "    if i not in a:\n",
    "        a.append(i)\n",
    "print(\"another list without duplicate is \",a)\n"
   ]
  },
  {
   "cell_type": "code",
   "execution_count": 2,
   "id": "a1051383",
   "metadata": {},
   "outputs": [
    {
     "name": "stdout",
     "output_type": "stream",
     "text": [
      "Enter string\n",
      "bhavya\n",
      "The frequency of each element in the string is  {'b': 1, 'h': 1, 'a': 2, 'v': 1, 'y': 1}\n"
     ]
    }
   ],
   "source": [
    "'''2] Write a program that takes a string as input from user and computes the frequency of each letters. Use a variable of dictionary type to maintain the count'''\n",
    "a=input(\"Enter string\\n\")\n",
    "d={}\n",
    "l=list(a)\n",
    "for i in l:\n",
    "    if i not in d:\n",
    "        d.update({i:a.count(i)})\n",
    "print(\"The frequency of each element in the string is \",d)\n"
   ]
  },
  {
   "cell_type": "code",
   "execution_count": null,
   "id": "dee7da6b",
   "metadata": {},
   "outputs": [],
   "source": [
    "'''3] Write a program to read the numbers until -1 is encountered. Also, count the number of prime numbers and composite numbers entered by the user'''\n",
    "a=0\n",
    "count=0\n",
    "while(a!=-1):\n",
    "    \n",
    "        a =int(input(\"Enter the number \"))\n",
    "        for i in range(0,1):\n",
    "\n",
    "            if (a==1 or a==0):\n",
    "                print(a,\" is niether prime nor composite\")\n",
    "            elif (a==2):\n",
    "                print(\"2 is a prime number\")\n",
    "                break\n",
    "        for i in range(2, a):\n",
    "\n",
    "            if (a % i == 0):\n",
    "                print(a,\" is composite number\")\n",
    "                count=count+1\n",
    "                print(\"count of composite number is \",count)\n",
    "                break\n",
    "            elif (a%i!=0):\n",
    "                print(a,\" is a prime number\")\n",
    "                break\n"
   ]
  },
  {
   "cell_type": "code",
   "execution_count": null,
   "id": "767d1350",
   "metadata": {},
   "outputs": [],
   "source": [
    "'''4] Write a program to check whether a number is Armstrong or not.\n",
    "(Armstrong number is a number that is equal to the sum of cubes of its digits for example: 153 = 1^3 + 5^3 + 3^3.)\n",
    "'''\n",
    "num=int(input(\"Enter number \"))\n",
    "rhs=num\n",
    "sum=0\n",
    "while(rhs>0):\n",
    "    dig=rhs%10\n",
    "    sum=sum+dig**3\n",
    "    rhs//=10\n",
    "    \n",
    "if num==sum:\n",
    "    print(+int(num),\" is angstrom\")\n",
    "else:\n",
    "    print(+int(num),\" is not angstrom\")\n"
   ]
  },
  {
   "cell_type": "code",
   "execution_count": 3,
   "id": "d8700ec8",
   "metadata": {},
   "outputs": [
    {
     "name": "stdout",
     "output_type": "stream",
     "text": [
      "Enter the string uyh5285h67y\n",
      "number count=  6 string count  5\n"
     ]
    }
   ],
   "source": [
    "'''5] Write a program that accepts a string from user and calculate the number of digits and letters in string.'''\n",
    "a=input(\"Enter the string \")\n",
    "count=0\n",
    "count1=0\n",
    "for i in range(0,len(a)):\n",
    "\n",
    "    if a[i].isdigit():\n",
    "        count=count+1\n",
    "        #print(\"number count= \",count)\n",
    "        continue\n",
    "    elif a[i].isalpha():\n",
    "        count1=count1+1\n",
    "        #print(\"count of string is \",count1)\n",
    "        continue\n",
    "   # else:\n",
    "       \n",
    "       #print(\"count \",count,count1)\n",
    "       \n",
    "print(\"number count= \",count,\"string count \",count1)\n"
   ]
  },
  {
   "cell_type": "code",
   "execution_count": null,
   "id": "4deee617",
   "metadata": {},
   "outputs": [],
   "source": [
    "'''6] WAP to verify whether his credit card numbers are valid or not.  A valid credit card\n",
    "from ABC Bank has the following characteristics:\n",
    "●\tIt must start with a 4,5  or 6 . \n",
    "●\tIt must contain exactly 16 digits. \n",
    "●\tIt must only consist of digits (0-9). \n",
    "●\tIt may have digits in groups of 4, separated by one hyphen ‘-’\n",
    "'''\n",
    "import re\n",
    "credit=input(\"Enter your credit card number \")\n",
    "pattern=r'^[4-6]\\d{3}[-]\\d{4}[-]\\d{4}[-]\\d{4}$'\n",
    "pattern1=r'^[4-6]\\d{15}$'\n",
    "if re.search(pattern,credit):\n",
    "    print(\"valid entry\")\n",
    "elif re.search(pattern1,credit):\n",
    "    print(\"valid entry\")\n",
    "else:\n",
    "    print(\"invalid entry\")\n"
   ]
  },
  {
   "cell_type": "code",
   "execution_count": null,
   "id": "fd908f6b",
   "metadata": {},
   "outputs": [],
   "source": [
    "'''7] From given string extract phone numbers only and save it into list.\n",
    "Txt = “Dave Martin\n",
    "615-555-7164\n",
    "173 Main St., Springfield RI 55924\n",
    "davemartin@bogusemail.com\n",
    "\n",
    "Charles Harris\n",
    "800-555-5669\n",
    "969 High St., Atlantis VA 34075\n",
    "charlesharris@bogusemail.com\n",
    "\n",
    "Eric Williams\n",
    "560-555-5153\n",
    "806 1st St., Faketown AK 86847\n",
    "laurawilliams@bogusemail.com\n",
    "\n",
    "Corey Jefferson\n",
    "900-555-9340\n",
    "826 Elm St., Epicburg NE 10671\n",
    "coreyjefferson@bogusemail.com”\n",
    "'''\n",
    "import re\n",
    "pattern=r'\\d{3}[-]\\d{3}[-]\\d{4}'\n",
    "txt=\"Dave Martin 615-555-7164 173 Main St., Springfield RI 55924 davemartin@bogusemail.com Charles Harris 800-555-5669 969 High St., Atlantis VA 34075 charlesharris@bogusemail.com Eric Williams 560-555-5153 806 1st St., Faketown AK 86847 laurawilliams@bogusemail.com Corey Jefferson 900-555-9340 826 Elm St., Epicburg NE 10671 coreyjefferson@bogusemail.com\"\n",
    "phone=re.findall(pattern,txt)\n",
    "print(phone)\n"
   ]
  },
  {
   "cell_type": "code",
   "execution_count": null,
   "id": "2056b57a",
   "metadata": {},
   "outputs": [],
   "source": [
    "'''8] find all emails'''\n",
    "import re\n",
    "pattern=r'\\d{3}[-]\\d{3}[-]\\d{4}'\n",
    "import re\n",
    "pattern=r'\\d{3}[-]\\d{3}[-]\\d{4}'\n",
    "txt=\"Dave Martin 615-555-7164 173 Main St., Springfield RI 55924 davemartin@bogusemail.com Charles Harris 800-555-5669 969 High St., Atlantis VA 34075 charlesharris@bogusemail.com Eric Williams 560-555-5153 806 1st St., Faketown AK 86847 laurawilliams@bogusemail.com Corey Jefferson 900-555-9340 826 Elm St., Epicburg NE 10671 coreyjefferson@bogusemail.com\"\n",
    "phone=re.findall(pattern,txt)\n",
    "print(phone)\n"
   ]
  },
  {
   "cell_type": "code",
   "execution_count": null,
   "id": "18b79796",
   "metadata": {},
   "outputs": [],
   "source": [
    "'''9] Write a Python program using a recursive function that takes a string as input from the user and displays whether the string is Palindrome or not.'''\n",
    "def ispal(string):\n",
    "    if len(string)<=1:\n",
    "        return True\n",
    "    else:\n",
    "        if string[0]==string[-1]:\n",
    "            return ispal(string[1:-1])\n",
    "        else:\n",
    "            return False\n",
    "string=input(\"Enter the string \")\n",
    "palindrome=ispal(string)\n",
    "if palindrome==True:\n",
    "    print(\"It is a pailndrome\")\n",
    "else:\n",
    "    print(\"it is not a palindrome\")\n"
   ]
  },
  {
   "cell_type": "code",
   "execution_count": null,
   "id": "0f6575bc",
   "metadata": {},
   "outputs": [],
   "source": [
    "'''10] Write a Python program to separate out even and odd numbers from the list entered by user by using Lambda function'''\n",
    "lst=[]\n",
    "n=int(input(\"Enter number of elemnts \"))\n",
    "for i in range(n):\n",
    "    a=int(input())\n",
    "    lst.append(a)\n",
    "print(\"list is \",lst)\n",
    "even=list(filter(lambda x: (x%2 ==0),lst))\n",
    "print(\"List of even numbers\")\n",
    "print(even)\n",
    "odd=list(filter(lambda x: (x%2!=0),lst))\n",
    "print(\"List of odd numbers\")\n",
    "print(odd)\n"
   ]
  },
  {
   "cell_type": "code",
   "execution_count": null,
   "id": "95303d18",
   "metadata": {},
   "outputs": [],
   "source": [
    "'''11] Write a python program to calculate factorial using recursion'''\n",
    "def factorial(n):\n",
    "    if n==1 or n==0:\n",
    "        return n\n",
    "    else:\n",
    "        return n*factorial(n-1)\n",
    "n=int(input(\"Enter the number \"))\n",
    "if n<0:\n",
    "    print(\"impossible factorial\")\n",
    "else:\n",
    "    print(factorial(n))\n"
   ]
  },
  {
   "cell_type": "code",
   "execution_count": null,
   "id": "02a61aea",
   "metadata": {},
   "outputs": [],
   "source": [
    "'''12] Write a program to accept Roll Number, Marks Obtained in four subjects, calculate total Marks and percentage scored by the student. Display the roll number, marks obtained, total marks and the percentage scored by the student. Use getter-setter methods.'''\n",
    "class student:\n",
    "    marks=[]\n",
    "    def data(self,name,rn,m1,m2,m3,m4):\n",
    "        self.name=name\n",
    "        self.rn=rn\n",
    "        self.marks.append(m1)\n",
    "        self.marks.append(m2)\n",
    "        self.marks.append(m3)\n",
    "        self.marks.append(m4)\n",
    "    def display(self):\n",
    "        print(\"------------------------\")\n",
    "        print(\"*****All subjects are of 100 marks****\")\n",
    "        print(\"Name is \",self.name)\n",
    "        print(\"roll no. is \",self.rn)\n",
    "        print(\"marks obtained in subject 1 \",self.marks[0])\n",
    "        print(\"marks obtained in subject 2 \",self.marks[1])\n",
    "        print(\"marks obtained in subject 3 \",self.marks[2])\n",
    "        print(\"marks obtained in subject 4 \",self.marks[3])\n",
    "        print(\"total marks is \",self.total())\n",
    "        print(\"percentage scored is \",self.per(),\"%\")\n",
    "        print(\"------------------------\")\n",
    "    def total(self):\n",
    "        return(self.marks[0]+self.marks[1]+self.marks[2]+self.marks[3])\n",
    "    def per(self):\n",
    "        return([((self.marks[0]+self.marks[1]+self.marks[2]+self.marks[3])/400)*100])\n",
    "name=input(\"Enter name= \")\n",
    "rn=int(input(\"Enter your roll no.= \"))\n",
    "m1=int(input(\"Enter marks 1= \"))\n",
    "m2=int(input(\"Enter marks 2= \"))\n",
    "m3=int(input(\"Enter marks 3= \"))\n",
    "m4=int(input(\"Enter marks 4= \"))\n",
    "obj=student()\n",
    "obj.data(name,rn,m1,m2,m3,m4)\n",
    "obj.display()\n"
   ]
  },
  {
   "cell_type": "code",
   "execution_count": null,
   "id": "247264cd",
   "metadata": {},
   "outputs": [],
   "source": [
    "'''13] 1.\tWrite a program that has a class ‘store’ which keeps a record of code and price of each product. Display a menu of all products to the user and prompt them to enter the quantity of each item required. Generate a bill and display the total amount.'''\n",
    "class Store:\n",
    "    product_list = []\n",
    "    purchases = {}\n",
    "\n",
    "    def __init__(self, code, price):\n",
    "        self.code = code\n",
    "        self.price = price\n",
    "        Store.product_list.append(self)\n",
    "\n",
    "    @classmethod\n",
    "    def print_menu(cls):\n",
    "        print(\"\\nMENU:\")\n",
    "        print(\"Item code\", \"Price (Rs.)\", sep = \"\\t\")\n",
    "        for item in Store.product_list:\n",
    "            print(item.code, item.price, sep = \"\\t\\t\")\n",
    "        print()\n",
    "\n",
    "    @classmethod\n",
    "    def generate_bill(cls, prod, qty):\n",
    "        for item in Store.product_list:\n",
    "            if prod == item.code:\n",
    "                Store.purchases.update({item.code:qty})\n",
    "                return item.price * qty\n",
    "        print(\"Item not available\")\n",
    "        return 0\n",
    "\n",
    "    @classmethod\n",
    "    def print_bill(cls):\n",
    "        print(\"\\nBILL:\")\n",
    "        print(\"Item code\\tQuantity\\tCost\")\n",
    "        for product,quantity in Store.purchases.items():\n",
    "            print(product, quantity, sep = \"\\t\\t\", end = \"\\t\\t\")\n",
    "            print(Store.generate_bill(product, quantity))\n",
    "        print(\"Your bill amounts to Rs.\", bill_amt)\n",
    "\n",
    "pen = Store(\"Pen\", 10)\n",
    "pencil = Store(\"Pencil\", 15)\n",
    "eraser = Store(\"Eraser\", 5)\n",
    "ruler = Store(\"Ruler\", 30)\n",
    "tape = Store(\"Tape\", 50)\n",
    "\n",
    "Store.print_menu()\n",
    "cont = 'Y'\n",
    "bill_amt = 0\n",
    "\n",
    "while cont.upper() == 'Y':\n",
    "    prod = input(\"Enter product code: \")\n",
    "    qty = int(input(\"Enter quantity: \"))\n",
    "    bill_amt += Store.generate_bill(prod.capitalize(), qty)\n",
    "    cont = input(\"Press y to continue : \")\n",
    "\n",
    "Store.print_bill()\n"
   ]
  },
  {
   "cell_type": "code",
   "execution_count": null,
   "id": "bcd5fd2a",
   "metadata": {},
   "outputs": [],
   "source": [
    "'''14] 2.\tAssume that a bank maintains two kinds of accounts for customers, one called a savings account and the other as a current account. The savings account provides simple interest and withdrawal facilities but no cheque book facility. The current account provides a check book facility but no interest. Current account holders should also maintain a minimum balance Rs. 500 and if the balance falls below this level, a service charge is imposed to 2%.\n",
    " \n",
    "\n",
    "\n",
    "\n",
    "\n",
    "Create a class account that stores customer name, account number and type of account. From this derive the classes cur_acct and sav_acct to make them more specific to their requirements. Include necessary member functions in order to achieve the following tasks:\n",
    "\n",
    "●\tAccept deposits from a customer and update the balance.\n",
    "●\tDisplay the balance.\n",
    "●\tCompute and deposit interest.\n",
    "●\tPermit withdrawal and update the balance.\n",
    "●\tCheck for the minimum balance, impose penalty, necessary and update the balance.\n",
    "\n",
    "'''\n",
    "\"Refer the experiment 7 of pp lab\"\n"
   ]
  },
  {
   "cell_type": "code",
   "execution_count": null,
   "id": "8d02cee9",
   "metadata": {},
   "outputs": [],
   "source": [
    "'''15] 1.\tWrite a program that defines an abstract class called Vehicle containing an abstract method speed (). Derive from it two classes - FourWheeler and TwoWheeler. Create objects of derived classes and call the speed () method using these objects, passing to it the name of vehicle and speed of vehicle. In the speed () method print the vehicle name and the speed of vehicle to which speed () belongs.'''\n",
    "from abc import ABC, abstractmethod\n",
    "\n",
    "class Vehicle(ABC):\n",
    "    @abstractmethod\n",
    "    def speed(self,name,speed):\n",
    "        pass\n",
    "\n",
    "class FourWheeler(Vehicle):\n",
    "    def speed(self,name1,speed1):\n",
    "        print(name1, speed1)\n",
    "\n",
    "class TwoWheeler(Vehicle):\n",
    "    def speed(self, name2, speed2):\n",
    "        print(name2, speed2)\n",
    "\n",
    "car = FourWheeler()\n",
    "bike = TwoWheeler()\n",
    "name1 = input(\"Enter name of car = \")\n",
    "speed1 = int(input(\"Enter speed of car = \"))\n",
    "name2 = input(\"Enter name of bike = \")\n",
    "speed2 = int(input(\"Enter speed of bike = \"))\n",
    "car.speed(name1,speed1)\n",
    "bike.speed(name2,speed2)\n"
   ]
  },
  {
   "cell_type": "code",
   "execution_count": null,
   "id": "7634079e",
   "metadata": {},
   "outputs": [],
   "source": [
    "'''16] '''\n",
    "#1) A dictionary is represented by the score of batsmen across a match in one level of dictionary. Find the lowest score and highest score and also\n",
    "#display the name of the player respectively.\n",
    "\n",
    "d=dict()\n",
    "n=int(input(\"Enter number of batsman= \"))\n",
    "for i in range(0,n):\n",
    "    name = input(\"Enter name of batsman= \") \n",
    "    score = int(input(\"Enter score of batsman= \"))\n",
    "    d.update({name:score})\n",
    "print(d)\n",
    "maxvalue=0\n",
    "for k,v in d.items():\n",
    "    if v>maxvalue:\n",
    "        maxvalue=v\n",
    "        key=k\n",
    "print(\"maximum score= \",key,maxvalue)\n",
    "for k,v in d.items():\n",
    "    if v<maxvalue:\n",
    "        maxvalue=v\n",
    "        key=k\n",
    "print(\"minimum score= \",key,maxvalue)\n"
   ]
  },
  {
   "cell_type": "code",
   "execution_count": null,
   "id": "aaee0da5",
   "metadata": {},
   "outputs": [],
   "source": [
    "'''17] '''\n",
    "#2\n",
    "def poly_modify(poly1,poly2):\n",
    "    diff=len(poly1)-len(poly2)\n",
    "    if diff == 0:\n",
    "        return (poly1,poly2)\n",
    "    elif diff >0:\n",
    "        max_pow2 = poly2[0][1]\n",
    "        for i in range (diff):\n",
    "            poly2.insert(0,(0,max_pow2 +1))\n",
    "            max_pow2+=1\n",
    "        return (poly1,poly2)\n",
    "    elif diff<0:\n",
    "        max_pow1=poly1[0][1]\n",
    "        for i in range(-diff):\n",
    "            poly1.insert(0,(0,max_pow1+1))\n",
    "            max_pow1+=1\n",
    "        return (poly1,poly2)\n",
    "def add(p,q):\n",
    "    p,q=poly_modify(p,q)\n",
    "    poly_sum=[]\n",
    "    for i in range(len(p)):\n",
    "        coeff_sum=p[i][0] + q[i][0]\n",
    "        poly_sum.append((coeff_sum,len(p)-1-i))\n",
    "    return poly_sum\n",
    "def sub(p,q):\n",
    "    p,q=poly_modify(p,q)\n",
    "    poly_diff = []\n",
    "    for i in range(len(p)):\n",
    "        coeff_diff = p[i][0] - q[i][0]\n",
    "        poly_diff.append((coeff_diff,len(p)-1-i))\n",
    "    return poly_diff\n",
    "p=[]\n",
    "q=[]\n",
    "deg1=int(input(\"Enter the degree of polynomial 1 : \"))\n",
    "for exp in range(deg1,-1,-1):\n",
    "    print(\"Enter the coefficient for x^\",exp,\":\",sep =\"\",end=\"\")\n",
    "    coeff=int(input())\n",
    "    p.append((coeff,exp))\n",
    "print()\n",
    "deg2=int(input(\"Enter the degre of polynomial 2: \"))\n",
    "for exp in range(deg2,-1,-1):\n",
    "    print(\"Enter the coefficient for x^\",exp,\":\",sep =\"\",end=\"\")\n",
    "    coeff=int(input())\n",
    "    q.append((coeff,exp))\n",
    "print()\n",
    "print(\"p =\",p)\n",
    "print(\"q =\",q)\n",
    "print()\n",
    "print(\"Addition of polynomial is:\",add(p,q))\n",
    "print(\"Difference of polynomial is:\",sub(p,q))\n"
   ]
  },
  {
   "cell_type": "code",
   "execution_count": null,
   "id": "6cd2323c",
   "metadata": {},
   "outputs": [],
   "source": [
    "'''18] '''\n",
    "#3\n",
    "def det2x2(n00,n01,n10,n11):\n",
    "    return n00*n11-n10*n01\n",
    "def cramer(a,b,c,d,e,f):\n",
    "    D =det2x2(a,b,c,d)\n",
    "    if D == 0:\n",
    "        return None\n",
    "    Dx=det2x2(e,b,f,d)\n",
    "    Dy=det2x2(a,e,c,f)\n",
    "    X=Dx/D\n",
    "    Y=Dy/D\n",
    "    return (X,Y)\n",
    "a=int(input(\"Enter the value of a: \"))\n",
    "b=int(input(\"Enter the value of b: \"))\n",
    "e=int(input(\"Enter the value of c: \"))\n",
    "c=int(input(\"Enter the value of d: \"))\n",
    "d=int(input(\"Enter the value of e: \"))\n",
    "f=int(input(\"Enter the value of f: \"))\n",
    "soln = cramer(a,b,c,d,e,f)\n",
    "if soln==None:\n",
    "    print(\"No unique solution found\")\n",
    "else:\n",
    "    x,y=soln\n",
    "    print(\"The solution of two linear equation {0}x + {1}y = {2} & {3}x + {4}y = {5} is x={6} & y= {7}\".format(a,b,c,d,e,f,x,y))\n"
   ]
  },
  {
   "cell_type": "code",
   "execution_count": null,
   "id": "a8677a9a",
   "metadata": {},
   "outputs": [],
   "source": [
    "'''19] '''\n",
    "d=dict()\n",
    "n=int(input(\"Enter n= \"))\n",
    "for i in range(0,n):\n",
    "    ps = input(\"Enter key= \") \n",
    "    value = int(input(\"Enter value= \"))\n",
    "    d.update({ps:value})\n",
    "print(d)\n",
    "maxvalue=0\n",
    "for k,v in d.items():\n",
    "    if v>maxvalue:\n",
    "        maxvalue=v\n",
    "        key=k\n",
    "print(\"Highest score= \",key,maxvalue)\n",
    "for k,v in d.items():\n",
    "    if v<maxvalue:\n",
    "        maxvalue=v\n",
    "        key=k\n",
    "print(\"Lowest score= \",key,maxvalue)\n"
   ]
  },
  {
   "cell_type": "code",
   "execution_count": null,
   "id": "20682158",
   "metadata": {},
   "outputs": [],
   "source": [
    "'''20] '''\n",
    "#5Write a python function add(n) where n is any positive integer, function\n",
    "#will return addition of the digits of n repeatedly until the result has single\n",
    "#digit.\n",
    "def add(n):\n",
    "    if n<10:\n",
    "        return n\n",
    "    else:\n",
    "\n",
    "        unit=n%10\n",
    "        n=n//10\n",
    "        return add(unit+add(n)) \n",
    "n=int(input(\"Enter the value of n= \"))\n",
    "sum=add(n)\n",
    "print(sum)\n"
   ]
  },
  {
   "cell_type": "code",
   "execution_count": null,
   "id": "72b9ec3f",
   "metadata": {},
   "outputs": [],
   "source": [
    "'''21] '''\n",
    "#4]\n",
    "r=int(input(\"Enter number of row= \"))\n",
    "c=int(input(\"Enter number of column= \"))\n",
    "mat=[]\n",
    "for i in range(r):\n",
    "    a=[]\n",
    "    for j in range(c):\n",
    "        a.append(int(input()))\n",
    "    mat.append(a) \n",
    "for i in range(r):\n",
    "    for j in range(c):\n",
    "        print(mat[i][j],end=\" \")\n",
    "    print()\n"
   ]
  },
  {
   "cell_type": "code",
   "execution_count": null,
   "id": "fce8ac3b",
   "metadata": {},
   "outputs": [],
   "source": [
    "'''22] '''\n",
    "#Q7)\n",
    "n=int(input(\"Enter number= \"))\n",
    "for i in range(0,n):\n",
    "    for j in range(0,n):\n",
    "       \n",
    "        if i+j==3:\n",
    "            print(0,end=\"\")\n",
    "        elif i+j==4:\n",
    "            print(1,end=\"\")\n",
    "        else:\n",
    "            print(i+j,end=\"\")          \n",
    "    print(\"\")\n"
   ]
  },
  {
   "cell_type": "code",
   "execution_count": null,
   "id": "be12ff5b",
   "metadata": {},
   "outputs": [],
   "source": [
    "'''23] '''\n",
    "#8) Write a python function right_triangle(x) which will print the following pattern.\n",
    "n=int(input(\"Enter number of rows= \"))\n",
    "for i in range(0,n):\n",
    "    for j in range(0,i+1):\n",
    "        print(j,end=\"\")\n",
    "        j+=j\n",
    "    print(\"\")\n",
    "    i+=i\n"
   ]
  },
  {
   "cell_type": "code",
   "execution_count": null,
   "id": "64e0bad1",
   "metadata": {},
   "outputs": [],
   "source": [
    "'''24] '''\n",
    "# 9]\n",
    "import re\n",
    "input_name = input(\"Enter username= \")\n",
    "input_password = input(\"Enter your password= \")\n",
    "input_emailid = input(\"Enter your email id= \")\n",
    "input_mobile=input('Enter your mobile number= ')\n",
    "pattern1 = r'[A-Za-z]{6,10}'\n",
    "pattern2 = r'^.*(?=.{8,})(?=.*\\d)(?=.*[a-z])(?=.*[A-Z])(?=.*[@#$%^&+=]).*$'\n",
    "pattern3 = r'[A-Za-z0-9]+@email.com'\n",
    "pattern4=r'[6-9]\\d{9}'\n",
    "if re.search(pattern1, input_name):\n",
    "    print(\"valid username\")\n",
    "    input_name = True\n",
    "else:\n",
    "    print(\"invalid username\")\n",
    "if re.search(pattern2, input_password):\n",
    "    print(\"valid password\")\n",
    "    input_password = True\n",
    "else:\n",
    "    print(\"invalid password\")\n",
    "if re.search(pattern3, input_emailid):\n",
    "    print(\"valid email id\")\n",
    "    input_emailid = True\n",
    "else:\n",
    "    print(\"invalid email id\")\n",
    "if re.search(pattern4,input_mobile):\n",
    "    print(\"valid mobile number\")\n",
    "    input_mobile=True\n",
    "else:\n",
    "    print('invalid mobile number')\n",
    "if input_name == True:\n",
    "    if input_password == True:\n",
    "        if input_emailid == True:\n",
    "            if input_mobile == True:\n",
    "                print(\"Thank You!!\")\n",
    "            else:\n",
    "                print(\"Sorry try again!!\")\n",
    "        else:\n",
    "            print(\"Sorry try again!!\")\n",
    "    else:\n",
    "        print(\"Sorry try again!!\")\n",
    "else:\n",
    "    print(\"Sorry try again!!\")\n"
   ]
  },
  {
   "cell_type": "code",
   "execution_count": 4,
   "id": "0edb8abe",
   "metadata": {},
   "outputs": [
    {
     "name": "stdout",
     "output_type": "stream",
     "text": [
      "account number list  ['1010101010101', '1010101010202', '1020101010202', '1020101010202']\n",
      "phone number list  ['9870765910', '6789678998', '6789678998']\n",
      "IFC Code list  ['UNIN00897', 'UNIN00997', 'UNIN00997', 'UNIN00997']\n",
      "name list  ['Patel Umang Jayantibhai', 'Shah Umang Jayantibhai', 'Shah ritik', 'taha zubain']\n"
     ]
    }
   ],
   "source": [
    "'''25] '''\n",
    "#Q10)\n",
    "import re\n",
    "txt='''Name: Patel Umang Jayantibhai\n",
    "Account number: 10101010101010\n",
    "IFSC code: UNIN00897\n",
    "email id: xyz@gh.com\n",
    "pin code: 401101\n",
    "mob no: 9870765910\n",
    "\n",
    "Name: Shah Umang Jayantibhai\n",
    "Account number: 10101010102022\n",
    "IFSC code: UNIN00997\n",
    "email id: pqr@gh.com\n",
    "pin code: 400001\n",
    "mob no: 1234567890\n",
    "MICR code: UNINN8907\n",
    "\n",
    "Name: Shah ritik\n",
    "Account number: 10201010102022\n",
    "IFSC code: UNIN00997\n",
    "email id: pqr@gmail.com\n",
    "pin code: 400001\n",
    "mob no: 6789678998\n",
    "\n",
    "email id: taha@gmail.com\n",
    "pin code: 400001\n",
    "mob no: 6789678998\n",
    "Name: taha zubain\n",
    "Account number: 10201010102022\n",
    "IFSC code: UNIN00997\n",
    "MICR code: UNNIN0909'''\n",
    "\n",
    "pattern1=r'[10]\\d{12}'\n",
    "acc=re.findall(pattern1,txt)\n",
    "print(\"account number list \",acc)\n",
    "pattern2=r'[6-9]\\d{9}'\n",
    "phone=re.findall(pattern2,txt)\n",
    "print(\"phone number list \",phone)\n",
    "pattern3=r'[A-Za-z]{4}[0-9]{5}'\n",
    "IFC=re.findall(pattern3,txt)\n",
    "print(\"IFC Code list \",IFC)\n",
    "pattern4 = r'Name: (\\b[A-Za-z]{3,}\\b \\b[A-Za-z]{3,}\\b(?:[A-Za-z ]{3,})?\\b)'\n",
    "#pattern4=r'(\\b[A-Za-z]{3,}\\b \\b[A-Za-z]{3,}\\b \\b[A-Za-z]{3,}\\b)'\n",
    "#pattern4 = r'Name: (\\b[A-Za-z]{3,}\\b \\b[A-Za-z]{3,}\\b(?:[A-Za-z ]{3,})?\\b) Account'\n",
    "name=re.findall(pattern4,txt)\n",
    "print(\"name list \",name)\n"
   ]
  },
  {
   "cell_type": "code",
   "execution_count": null,
   "id": "fcff688e",
   "metadata": {},
   "outputs": [],
   "source": [
    "# 8) Write a python function right_triangle(x) which will print the following pattern.\n",
    "'''n=int(input(\"Enter number of rows= \"))\n",
    "for i in range(0,n):\n",
    "    for j in range(0,n):\n",
    "        print((n-1)*j*i,end=\"\")\n",
    "        j+=j\n",
    "    print(\"\")\n",
    "    i+=i'''\n",
    "# 5Write a python function add(n) where n is any positive integer, function\n",
    "# will return addition of the digits of n repeatedly until the result has single\n",
    "# digit.\n",
    "'''def add(n):\n",
    "    if n<10:\n",
    "        return n\n",
    "    else:\n",
    "\n",
    "        unit=n%10\n",
    "        n=n//10\n",
    "        return add(unit+add(n)) \n",
    "n=int(input(\"Enter the value of n= \"))\n",
    "sum=add(n)\n",
    "print(sum)'''\n",
    "\n",
    "# 9]\n",
    "'''import re\n",
    "input_name = input(\"Enter username= \")\n",
    "input_password = input(\"Enter your password= \")\n",
    "input_emailid = input(\"Enter your email id= \")\n",
    "input_mobile=input('Enter your mobile number= ')\n",
    "pattern1 = r'[A-Za-z]{6,10}'\n",
    "pattern2 = r'^.*(?=.{8,})(?=.*\\d)(?=.*[a-z])(?=.*[A-Z])(?=.*[@#$%^&+=]).*$'\n",
    "pattern3 = r'[A-Za-z0-9]+@email.com'\n",
    "pattern4=r'[6-9]\\d{9}'\n",
    "if re.search(pattern1, input_name):\n",
    "    print(\"valid username\")\n",
    "    input_name = True\n",
    "else:\n",
    "    print(\"invalid username\")\n",
    "if re.search(pattern2, input_password):\n",
    "    print(\"valid password\")\n",
    "    input_password = True\n",
    "else:\n",
    "    print(\"invalid password\")\n",
    "if re.search(pattern3, input_emailid):\n",
    "    print(\"valid email id\")\n",
    "    input_emailid = True\n",
    "else:\n",
    "    print(\"invalid email id\")\n",
    "if re.search(pattern4,input_mobile):\n",
    "    print(\"valid mobile number\")\n",
    "    input_mobile=True\n",
    "else:\n",
    "    print('invalid mobile number')\n",
    "if input_name == True:\n",
    "    if input_password == True:\n",
    "        if input_emailid == True:\n",
    "            if input_mobile == True:\n",
    "                print(\"Thank You!!\")\n",
    "            else:\n",
    "                print(\"Sorry try again!!\")\n",
    "        else:\n",
    "            print(\"Sorry try again!!\")\n",
    "    else:\n",
    "        print(\"Sorry try again!!\")\n",
    "else:\n",
    "    print(\"Sorry try again!!\")'''\n",
    "\n",
    "#4]Write a python function matrix(r,c) where r is no of row and c is no of\n",
    "#column. The function matrix will return matrix with size of rxc with\n",
    "#element 1 to rxc with an increment in a row manner.\n",
    "'''r=int(input(\"Enter number of row= \"))\n",
    "c=int(input(\"Enter number of column= \"))\n",
    "mat=[]\n",
    "for i in range(r):\n",
    "    a=[]\n",
    "    for j in range(c):\n",
    "        a.append(int(input()))\n",
    "    mat.append(a) \n",
    "for i in range(r):\n",
    "    for j in range(c):\n",
    "        print(mat[i][j] ,end=\" \")\n",
    "    print( )'''\n",
    "\n",
    "#2\n",
    "'''def poly_modify(poly1,poly2):\n",
    "    diff=len(poly1)-len(poly2)\n",
    "    if diff == 0:\n",
    "        return (poly1,poly2)\n",
    "    elif diff >0:\n",
    "        max_pow2 = poly2[0][1]\n",
    "        for i in range (diff):\n",
    "            poly2.insert(0,(0,max_pow2 +1))\n",
    "            max_pow2+=1\n",
    "        return (poly1,poly2)\n",
    "    elif diff<0:\n",
    "        max_pow1=poly1[0][1]\n",
    "        for i in range(-diff):\n",
    "            poly1.insert(0,(0,max_pow1+1))\n",
    "            max_pow1+=1\n",
    "        return (poly1,poly2)\n",
    "def add(p,q):\n",
    "    p,q=poly_modify(p,q)\n",
    "    poly_sum=[]\n",
    "    for i in range(len(p)):\n",
    "        coeff_sum=p[i][0] + q[i][0]\n",
    "        poly_sum.append((coeff_sum,len(p)-1-i))\n",
    "    return poly_sum\n",
    "def sub(p,q):\n",
    "    p,q=poly_modify(p,q)\n",
    "    poly_diff = []\n",
    "    for i in range(len(p)):\n",
    "        coeff_diff = p[i][0] - q[i][0]\n",
    "        poly_diff.append((coeff_diff,len(p)-1-i))\n",
    "    return poly_diff\n",
    "p=[]\n",
    "q=[]\n",
    "deg1=int(input(\"Enter the degree of polynomial 1 : \"))\n",
    "for exp in range(deg1,-1,-1):\n",
    "    print(\"Enter the coefficient for x^\",exp,\":\",sep =\"\",end=\"\")\n",
    "    coeff=int(input())\n",
    "    p.append((coeff,exp))\n",
    "print()\n",
    "deg2=int(input(\"Enter the degre of polynomial 2: \"))\n",
    "for exp in range(deg2,-1,-1):\n",
    "    print(\"Enter the coefficient for x^\",exp,\":\",sep =\"\",end=\"\")\n",
    "    coeff=int(input())\n",
    "    q.append((coeff,exp))\n",
    "print()\n",
    "print(\"p =\",p)\n",
    "print(\"q =\",q)\n",
    "print()\n",
    "print(\"Addition of polynomial is:\",add(p,q))\n",
    "print(\"Difference of polynomial is:\",sub(p,q))'''\n",
    "\n",
    "#3\n",
    "def det2x2(n00,n01,n10,n11):\n",
    "    return n00*n11-n10*n01\n",
    "def cramer(a,b,c,d,e,f):\n",
    "    D =det2x2(a,b,c,d)\n",
    "    if D == 0:\n",
    "        return None\n",
    "    Dx=det2x2(e,b,f,d)\n",
    "    Dy=det2x2(a,e,c,f)\n",
    "    X=Dx/D\n",
    "    Y=Dy/D\n",
    "    return (X,Y)\n",
    "a=int(input(\"Enter the value of a: \"))\n",
    "b=int(input(\"Enter the value of b: \"))\n",
    "e=int(input(\"Enter the value of c: \"))\n",
    "c=int(input(\"Enter the value of d: \"))\n",
    "d=int(input(\"Enter the value of e: \"))\n",
    "f=int(input(\"Enter the value of f: \"))\n",
    "soln = cramer(a,b,c,d,e,f)\n",
    "if soln==None:\n",
    "    print(\"No unique solution found\")\n",
    "else:\n",
    "    x,y=soln\n",
    "    print(\"The solution of two linear equation {0}x + {1}y = {2} & {3}x + {4}y = {5} is x={6} & y= {7}\".format(a,b,c,d,e,f,x,y))\n",
    "\n"
   ]
  },
  {
   "cell_type": "code",
   "execution_count": 25,
   "id": "c01fe452",
   "metadata": {},
   "outputs": [
    {
     "name": "stdout",
     "output_type": "stream",
     "text": [
      "hi i m  sam\n"
     ]
    }
   ],
   "source": [
    "class person:\n",
    "    def __init__(self):\n",
    "        self.name=\"sam\"\n",
    "        \n",
    "    def talk(self):\n",
    "        print(\"hi i m \",self.name)\n",
    "obj=person()\n",
    "obj.talk()"
   ]
  },
  {
   "cell_type": "code",
   "execution_count": null,
   "id": "1aabc5f3",
   "metadata": {},
   "outputs": [],
   "source": [
    "'''Q26]'''\n",
    "from abc import ABC, abstractmethod\n",
    "\n",
    "class Vehicle(ABC):\n",
    "    @abstractmethod\n",
    "    def speed(self,name,speed):\n",
    "        pass\n",
    "\n",
    "class FourWheeler(Vehicle):\n",
    "    def speed(self,name1,speed1):\n",
    "        print(name1, speed1)\n",
    "\n",
    "class TwoWheeler(Vehicle):\n",
    "    def speed(self, name2, speed2):\n",
    "        print(name2, speed2)\n",
    "\n",
    "car = FourWheeler()\n",
    "bike = TwoWheeler()\n",
    "name1 = input(\"Enter name of car = \")\n",
    "speed1 = int(input(\"Enter speed of car = \"))\n",
    "name2 = input(\"Enter name of bike = \")\n",
    "speed2 = int(input(\"Enter speed of bike = \"))\n",
    "car.speed(name1,speed1)\n",
    "bike.speed(name2,speed2)\n",
    "from abc import ABC, abstractmethod\n",
    "class Employee(ABC):\n",
    "    @abstractmethod\n",
    "    def calculate_salary(self,sal):\n",
    "        pass\n",
    "    \n",
    "class Developer(Employee):\n",
    "    def calculate_salary(self,sal):\n",
    "        finalsalary=sal*1.10\n",
    "        return finalsalary\n",
    "        \n",
    "emp_1=Developer()\n",
    "print(emp_1.calculate_salary(10000))"
   ]
  },
  {
   "cell_type": "code",
   "execution_count": 1,
   "id": "dba38a06",
   "metadata": {},
   "outputs": [
    {
     "name": "stdout",
     "output_type": "stream",
     "text": [
      "Bank rate of interest: 10\n",
      "SBI rate of interest: 7\n",
      "ICICI rate of interest: 8\n"
     ]
    }
   ],
   "source": [
    "#Q27]\n",
    "\n",
    "class Bank:\n",
    "    def getroi(self):\n",
    "        return 10\n",
    "\n",
    "class SBI:\n",
    "        def getroi(self):\n",
    "            return 7\n",
    "        \n",
    "class ICICI:\n",
    "   def getroi(self):\n",
    "        return 8\n",
    "\n",
    "b1=Bank()\n",
    "b2=SBI()\n",
    "b3=ICICI()\n",
    "print(\"Bank rate of interest:\",b1.getroi())\n",
    "print(\"SBI rate of interest:\",b2.getroi())\n",
    "print(\"ICICI rate of interest:\",b3.getroi())"
   ]
  },
  {
   "cell_type": "code",
   "execution_count": 27,
   "id": "c08c2c66",
   "metadata": {},
   "outputs": [
    {
     "ename": "SyntaxError",
     "evalue": "invalid syntax (323405688.py, line 9)",
     "output_type": "error",
     "traceback": [
      "\u001b[1;36m  Input \u001b[1;32mIn [27]\u001b[1;36m\u001b[0m\n\u001b[1;33m    lst.update(self:name)\u001b[0m\n\u001b[1;37m                   ^\u001b[0m\n\u001b[1;31mSyntaxError\u001b[0m\u001b[1;31m:\u001b[0m invalid syntax\n"
     ]
    }
   ],
   "source": [
    "class student:\n",
    "    def __init__(self,aname,asection,aroll):\n",
    "        self.name=aname\n",
    "        self.section=asection\n",
    "        self.roll=aroll\n",
    "harry=student(\"harry\",\"A\",16010121210)\n",
    "lst=dict\n",
    "a=harry.name,harry.section,harry.roll\n",
    "lst.update(self:name)\n",
    "print(lst)\n",
    "\n"
   ]
  },
  {
   "cell_type": "code",
   "execution_count": 28,
   "id": "a9a244a8",
   "metadata": {},
   "outputs": [
    {
     "name": "stdout",
     "output_type": "stream",
     "text": [
      "hi i m  sam\n"
     ]
    }
   ],
   "source": [
    "class person:\n",
    "    def __init__(self):\n",
    "        self.name=\"sam\"\n",
    "        \n",
    "    def talk(self):\n",
    "        print(\"hi i m \",self.name)\n",
    "obj=person()\n",
    "person.talk(obj)"
   ]
  },
  {
   "cell_type": "code",
   "execution_count": 4,
   "id": "5d7d21f4",
   "metadata": {},
   "outputs": [
    {
     "ename": "NameError",
     "evalue": "name 'menu' is not defined",
     "output_type": "error",
     "traceback": [
      "\u001b[1;31m---------------------------------------------------------------------------\u001b[0m",
      "\u001b[1;31mNameError\u001b[0m                                 Traceback (most recent call last)",
      "Input \u001b[1;32mIn [4]\u001b[0m, in \u001b[0;36m<cell line: 11>\u001b[1;34m()\u001b[0m\n\u001b[0;32m      9\u001b[0m         pri\u001b[38;5;241m.\u001b[39mappend(p)\n\u001b[0;32m     10\u001b[0m         \u001b[38;5;28mprint\u001b[39m(stname,pri)\n\u001b[1;32m---> 11\u001b[0m \u001b[38;5;28mprint\u001b[39m(\u001b[43mmenu\u001b[49m())\n",
      "\u001b[1;31mNameError\u001b[0m: name 'menu' is not defined"
     ]
    }
   ],
   "source": [
    "class store:\n",
    "    stname=[]\n",
    "    pri=[]\n",
    "    def menu():\n",
    "        print(\"Name of product\\tPrice\")\n",
    "        n=input()\n",
    "        p=input()\n",
    "        stname.append(n)\n",
    "        pri.append(p)\n",
    "        print(stname,pri)\n",
    "print(menu())\n",
    "        "
   ]
  },
  {
   "cell_type": "code",
   "execution_count": 1,
   "id": "ee16e65d",
   "metadata": {},
   "outputs": [
    {
     "ename": "SyntaxError",
     "evalue": "cannot assign to True (3613235913.py, line 41)",
     "output_type": "error",
     "traceback": [
      "\u001b[1;36m  Input \u001b[1;32mIn [1]\u001b[1;36m\u001b[0m\n\u001b[1;33m    True=False\u001b[0m\n\u001b[1;37m    ^\u001b[0m\n\u001b[1;31mSyntaxError\u001b[0m\u001b[1;31m:\u001b[0m cannot assign to True\n"
     ]
    }
   ],
   "source": [
    "import statistics\n",
    "\n",
    "admins={\"user1\":\"123\",\"user2\":\"456\"}\n",
    "studentdict={\"preeti\":[78,88,89],\"sameer\":[45,55,69],\"sam\":[98,89,97]}\n",
    "def entergrade():\n",
    "    name=input(\"Enter student name: \")\n",
    "    grade=float(input(\"Grade: \"))\n",
    "    if name in studentdict:\n",
    "        print(\"Adding grades\")\n",
    "        studentdict[name].append(grade)\n",
    "    else:\n",
    "        print(\"Student does not exist\")\n",
    "    print(studentdict)\n",
    "def removestud():\n",
    "    sname=input(\"Enter student name you want to delete: \")\n",
    "    if sname in studentdict:\n",
    "        print(\"Removing student\")\n",
    "        studentdict.pop(sname)\n",
    "    else:\n",
    "        print(\"That student does not exist\")\n",
    "    print(studentdict)\n",
    "def avg():\n",
    "    for i in studentdict:\n",
    "        gradelist=studentdict[i]\n",
    "        avg=statistics.mean(gradelist)\n",
    "        print(\"Average of {} student is {}\".format(i,avg))\n",
    "def main():\n",
    "    print('''Welcome to Grade central\n",
    "    [1]-Enter Grades\n",
    "    [2]-Remove student\n",
    "    [3]-Student Average Grades\n",
    "    [4]-Exit''')\n",
    "    action=input(\"what would you like to do today?[Enter a number] \")\n",
    "    if action=='1':\n",
    "        entergrade()\n",
    "    elif action==\"2\":\n",
    "        removestud()\n",
    "    elif action==\"3\":\n",
    "        avg()\n",
    "    elif action==\"4\":\n",
    "        exit()\n",
    "    else:\n",
    "        print(\"invalid choice,Try again\")\n",
    "\n",
    "\n",
    "login=input(\"Username: \")\n",
    "passw=input(\"Password: \")\n",
    "if login in admins:\n",
    "    if admins[login]==passw:\n",
    "        print(\"Welcome,\",login)\n",
    "        while True:\n",
    "            main()\n",
    "    else:\n",
    "        print(\"Invalid password\")\n",
    "else:\n",
    "    print(\"Invalid username\")"
   ]
  },
  {
   "cell_type": "markdown",
   "id": "7235d92a",
   "metadata": {},
   "source": [
    "# Numpy in Python"
   ]
  },
  {
   "cell_type": "code",
   "execution_count": 10,
   "id": "97f4d1ea",
   "metadata": {},
   "outputs": [
    {
     "name": "stdout",
     "output_type": "stream",
     "text": [
      "[[1, 2, 3, 4, 5], [2, 3, 4, 5, 6], [3, 4, 5, 6, 7]]\n"
     ]
    }
   ],
   "source": [
    "arr1=[[1,2,3,4,5],\n",
    "     [2,3,4,5,6],\n",
    "     [3,4,5,6,7]]\n",
    "print(arr1)"
   ]
  },
  {
   "cell_type": "code",
   "execution_count": 12,
   "id": "ae43cdbb",
   "metadata": {},
   "outputs": [
    {
     "data": {
      "text/plain": [
       "array([[1, 2, 3, 4, 5],\n",
       "       [2, 3, 4, 5, 6],\n",
       "       [3, 4, 5, 6, 7]])"
      ]
     },
     "execution_count": 12,
     "metadata": {},
     "output_type": "execute_result"
    }
   ],
   "source": [
    "np.array(arr1)"
   ]
  },
  {
   "cell_type": "code",
   "execution_count": 9,
   "id": "37703b45",
   "metadata": {},
   "outputs": [],
   "source": [
    "import numpy as np"
   ]
  },
  {
   "cell_type": "code",
   "execution_count": 14,
   "id": "d572b6cf",
   "metadata": {},
   "outputs": [
    {
     "ename": "TypeError",
     "evalue": "list indices must be integers or slices, not tuple",
     "output_type": "error",
     "traceback": [
      "\u001b[1;31m---------------------------------------------------------------------------\u001b[0m",
      "\u001b[1;31mTypeError\u001b[0m                                 Traceback (most recent call last)",
      "Cell \u001b[1;32mIn[14], line 1\u001b[0m\n\u001b[1;32m----> 1\u001b[0m \u001b[43marr1\u001b[49m\u001b[43m[\u001b[49m\u001b[43m:\u001b[49m\u001b[43m,\u001b[49m\u001b[38;5;241;43m1\u001b[39;49m\u001b[43m]\u001b[49m\n",
      "\u001b[1;31mTypeError\u001b[0m: list indices must be integers or slices, not tuple"
     ]
    }
   ],
   "source": [
    "arr1[:,1]"
   ]
  },
  {
   "cell_type": "code",
   "execution_count": 15,
   "id": "9f9e8c49",
   "metadata": {},
   "outputs": [
    {
     "ename": "AttributeError",
     "evalue": "'list' object has no attribute 'shape'",
     "output_type": "error",
     "traceback": [
      "\u001b[1;31m---------------------------------------------------------------------------\u001b[0m",
      "\u001b[1;31mAttributeError\u001b[0m                            Traceback (most recent call last)",
      "Cell \u001b[1;32mIn[15], line 1\u001b[0m\n\u001b[1;32m----> 1\u001b[0m \u001b[43marr1\u001b[49m\u001b[38;5;241;43m.\u001b[39;49m\u001b[43mshape\u001b[49m\n",
      "\u001b[1;31mAttributeError\u001b[0m: 'list' object has no attribute 'shape'"
     ]
    }
   ],
   "source": [
    "arr1.shape"
   ]
  },
  {
   "cell_type": "code",
   "execution_count": 16,
   "id": "895714e7",
   "metadata": {},
   "outputs": [
    {
     "data": {
      "text/plain": [
       "list"
      ]
     },
     "execution_count": 16,
     "metadata": {},
     "output_type": "execute_result"
    }
   ],
   "source": [
    "type(arr1)"
   ]
  },
  {
   "cell_type": "code",
   "execution_count": 17,
   "id": "d246bca6",
   "metadata": {},
   "outputs": [
    {
     "data": {
      "text/plain": [
       "array([[1, 2, 3, 4, 5],\n",
       "       [2, 3, 4, 5, 6],\n",
       "       [3, 4, 5, 6, 7]])"
      ]
     },
     "execution_count": 17,
     "metadata": {},
     "output_type": "execute_result"
    }
   ],
   "source": [
    "np.array(arr1)"
   ]
  },
  {
   "cell_type": "code",
   "execution_count": 18,
   "id": "a095ec94",
   "metadata": {},
   "outputs": [
    {
     "data": {
      "text/plain": [
       "list"
      ]
     },
     "execution_count": 18,
     "metadata": {},
     "output_type": "execute_result"
    }
   ],
   "source": [
    "type(arr1)"
   ]
  },
  {
   "cell_type": "code",
   "execution_count": 19,
   "id": "69402d6e",
   "metadata": {},
   "outputs": [],
   "source": [
    "arr=np.array([[1,2,3,4,5],\n",
    "     [2,3,4,5,6],\n",
    "     [3,4,5,6,7]])"
   ]
  },
  {
   "cell_type": "code",
   "execution_count": 20,
   "id": "45adbecc",
   "metadata": {},
   "outputs": [
    {
     "data": {
      "text/plain": [
       "numpy.ndarray"
      ]
     },
     "execution_count": 20,
     "metadata": {},
     "output_type": "execute_result"
    }
   ],
   "source": [
    "type(arr)"
   ]
  },
  {
   "cell_type": "code",
   "execution_count": 21,
   "id": "47b09d3c",
   "metadata": {},
   "outputs": [
    {
     "data": {
      "text/plain": [
       "array([2, 3, 4])"
      ]
     },
     "execution_count": 21,
     "metadata": {},
     "output_type": "execute_result"
    }
   ],
   "source": [
    "arr[:,1]"
   ]
  },
  {
   "cell_type": "code",
   "execution_count": 24,
   "id": "d0f8a83f",
   "metadata": {},
   "outputs": [
    {
     "data": {
      "text/plain": [
       "array([[1, 5],\n",
       "       [2, 6],\n",
       "       [3, 7]])"
      ]
     },
     "execution_count": 24,
     "metadata": {},
     "output_type": "execute_result"
    }
   ],
   "source": [
    "arr[:,0::4]"
   ]
  },
  {
   "cell_type": "markdown",
   "id": "5e13eaff",
   "metadata": {},
   "source": [
    "# EDA"
   ]
  },
  {
   "cell_type": "code",
   "execution_count": 25,
   "id": "8933415f",
   "metadata": {},
   "outputs": [
    {
     "data": {
      "text/plain": [
       "array([[ True, False, False, False, False],\n",
       "       [False, False, False, False, False],\n",
       "       [False, False, False, False, False]])"
      ]
     },
     "execution_count": 25,
     "metadata": {},
     "output_type": "execute_result"
    }
   ],
   "source": [
    "arr<2"
   ]
  },
  {
   "cell_type": "code",
   "execution_count": 28,
   "id": "61724fe2",
   "metadata": {},
   "outputs": [
    {
     "name": "stdout",
     "output_type": "stream",
     "text": [
      "[1 2 3 2 3 3]\n"
     ]
    }
   ],
   "source": [
    "print(arr[arr<4])"
   ]
  },
  {
   "cell_type": "code",
   "execution_count": 29,
   "id": "4b6068b8",
   "metadata": {},
   "outputs": [
    {
     "data": {
      "text/plain": [
       "(3, 5)"
      ]
     },
     "execution_count": 29,
     "metadata": {},
     "output_type": "execute_result"
    }
   ],
   "source": [
    "arr.shape"
   ]
  },
  {
   "cell_type": "code",
   "execution_count": 30,
   "id": "9f341311",
   "metadata": {},
   "outputs": [
    {
     "data": {
      "text/plain": [
       "array([[1, 2, 3],\n",
       "       [4, 5, 2],\n",
       "       [3, 4, 5],\n",
       "       [6, 3, 4],\n",
       "       [5, 6, 7]])"
      ]
     },
     "execution_count": 30,
     "metadata": {},
     "output_type": "execute_result"
    }
   ],
   "source": [
    "arr.reshape(5,3)"
   ]
  },
  {
   "cell_type": "markdown",
   "id": "b40b5aa4",
   "metadata": {},
   "source": [
    "# Mechanism to create an array"
   ]
  },
  {
   "cell_type": "code",
   "execution_count": 74,
   "id": "665eed18",
   "metadata": {},
   "outputs": [
    {
     "data": {
      "text/plain": [
       "array([[ 0,  1,  2,  3],\n",
       "       [ 4,  5,  6,  7],\n",
       "       [ 8,  9, 10, 11],\n",
       "       [12, 13, 14, 15],\n",
       "       [16, 17, 18, 19]])"
      ]
     },
     "execution_count": 74,
     "metadata": {},
     "output_type": "execute_result"
    }
   ],
   "source": [
    "np.arange(0,20).reshape(5,4)"
   ]
  },
  {
   "cell_type": "code",
   "execution_count": 56,
   "id": "3e64c30f",
   "metadata": {},
   "outputs": [
    {
     "data": {
      "text/plain": [
       "array([[1., 1., 1., 1., 1., 1., 1., 1., 1.],\n",
       "       [1., 1., 1., 1., 1., 1., 1., 1., 1.],\n",
       "       [1., 1., 1., 1., 1., 1., 1., 1., 1.]])"
      ]
     },
     "execution_count": 56,
     "metadata": {},
     "output_type": "execute_result"
    }
   ],
   "source": [
    "np.ones((3,9))"
   ]
  },
  {
   "cell_type": "code",
   "execution_count": 57,
   "id": "4125c297",
   "metadata": {},
   "outputs": [
    {
     "data": {
      "text/plain": [
       "array([[0., 0., 0., 0., 0., 0., 0., 0., 0.],\n",
       "       [0., 0., 0., 0., 0., 0., 0., 0., 0.]])"
      ]
     },
     "execution_count": 57,
     "metadata": {},
     "output_type": "execute_result"
    }
   ],
   "source": [
    "np.zeros((2,9))"
   ]
  },
  {
   "cell_type": "code",
   "execution_count": 64,
   "id": "8831b01e",
   "metadata": {},
   "outputs": [
    {
     "data": {
      "text/plain": [
       "array([[2, 1],\n",
       "       [2, 2]])"
      ]
     },
     "execution_count": 64,
     "metadata": {},
     "output_type": "execute_result"
    }
   ],
   "source": [
    "np.random.randint(1,3,4).reshape(2,2)"
   ]
  },
  {
   "cell_type": "code",
   "execution_count": 66,
   "id": "cbadb0bd",
   "metadata": {},
   "outputs": [
    {
     "data": {
      "text/plain": [
       "array([[ 0.37288255, -0.31015899,  1.01296827]])"
      ]
     },
     "execution_count": 66,
     "metadata": {},
     "output_type": "execute_result"
    }
   ],
   "source": [
    "np.random.randn(1,3)"
   ]
  },
  {
   "cell_type": "code",
   "execution_count": 69,
   "id": "91fe1c8d",
   "metadata": {},
   "outputs": [
    {
     "data": {
      "text/plain": [
       "array([[0.14052851, 0.00789004, 0.24515762, 0.06220163, 0.42299227]])"
      ]
     },
     "execution_count": 69,
     "metadata": {},
     "output_type": "execute_result"
    }
   ],
   "source": [
    "np.random.random_sample((1,5))"
   ]
  },
  {
   "cell_type": "markdown",
   "id": "3f5ebab8",
   "metadata": {},
   "source": [
    "# Pandas in Python"
   ]
  },
  {
   "cell_type": "markdown",
   "id": "45ecaeba",
   "metadata": {},
   "source": [
    "Pandas Dataframe\n",
    "Pandas Series\n",
    "Pandas Basic Operations"
   ]
  },
  {
   "cell_type": "markdown",
   "id": "55fa3875",
   "metadata": {},
   "source": [
    "Agar hame excel file k saath ya JSON file k saath kaam karna hai toh hame usse pehle DATAFRAMES mai convert karna padega aur vo hota hai Pndas ka use karke"
   ]
  },
  {
   "cell_type": "code",
   "execution_count": 70,
   "id": "a221d21f",
   "metadata": {},
   "outputs": [
    {
     "name": "stdout",
     "output_type": "stream",
     "text": [
      "Requirement already satisfied: pandas in d:\\xboxgames\\lib\\site-packages (1.5.3)\n",
      "Requirement already satisfied: python-dateutil>=2.8.1 in d:\\xboxgames\\lib\\site-packages (from pandas) (2.8.2)\n",
      "Requirement already satisfied: pytz>=2020.1 in d:\\xboxgames\\lib\\site-packages (from pandas) (2022.7)\n",
      "Requirement already satisfied: numpy>=1.21.0 in d:\\xboxgames\\lib\\site-packages (from pandas) (1.23.5)\n",
      "Requirement already satisfied: six>=1.5 in d:\\xboxgames\\lib\\site-packages (from python-dateutil>=2.8.1->pandas) (1.16.0)\n"
     ]
    }
   ],
   "source": [
    "!pip install pandas"
   ]
  },
  {
   "cell_type": "code",
   "execution_count": 75,
   "id": "518345b7",
   "metadata": {},
   "outputs": [],
   "source": [
    "import pandas as pd\n",
    "import numpy as np"
   ]
  },
  {
   "cell_type": "code",
   "execution_count": 80,
   "id": "8b067705",
   "metadata": {},
   "outputs": [],
   "source": [
    "df=pd.DataFrame(data=np.arange(0,20).reshape(5,4),\n",
    "            index=[\"Row1\",\n",
    "                  \"ROW2\",\n",
    "                  \"Row3\",\n",
    "                  \"ROW4\",\n",
    "                  \"Row5\"],\n",
    "            columns=[\"Column1\",\n",
    "                   \"Column2\",\n",
    "                   \"Column3\",\n",
    "                   \"Column4\"])"
   ]
  },
  {
   "cell_type": "markdown",
   "id": "1603ff50",
   "metadata": {},
   "source": [
    "Dataframe is a kind of Data Structure and to build it you have to use pandas lib."
   ]
  },
  {
   "cell_type": "code",
   "execution_count": 81,
   "id": "b87a825d",
   "metadata": {},
   "outputs": [
    {
     "name": "stdout",
     "output_type": "stream",
     "text": [
      "<class 'pandas.core.frame.DataFrame'>\n",
      "Index: 5 entries, Row1 to Row5\n",
      "Data columns (total 4 columns):\n",
      " #   Column   Non-Null Count  Dtype\n",
      "---  ------   --------------  -----\n",
      " 0   Column1  5 non-null      int32\n",
      " 1   Column2  5 non-null      int32\n",
      " 2   Column3  5 non-null      int32\n",
      " 3   Column4  5 non-null      int32\n",
      "dtypes: int32(4)\n",
      "memory usage: 120.0+ bytes\n"
     ]
    }
   ],
   "source": [
    "type(df)\n",
    "df.info()"
   ]
  },
  {
   "cell_type": "markdown",
   "id": "b9ee27f8",
   "metadata": {},
   "source": [
    "info() column ka datatype deta hai"
   ]
  },
  {
   "cell_type": "code",
   "execution_count": 82,
   "id": "26be08d1",
   "metadata": {},
   "outputs": [
    {
     "data": {
      "text/html": [
       "<div>\n",
       "<style scoped>\n",
       "    .dataframe tbody tr th:only-of-type {\n",
       "        vertical-align: middle;\n",
       "    }\n",
       "\n",
       "    .dataframe tbody tr th {\n",
       "        vertical-align: top;\n",
       "    }\n",
       "\n",
       "    .dataframe thead th {\n",
       "        text-align: right;\n",
       "    }\n",
       "</style>\n",
       "<table border=\"1\" class=\"dataframe\">\n",
       "  <thead>\n",
       "    <tr style=\"text-align: right;\">\n",
       "      <th></th>\n",
       "      <th>Column1</th>\n",
       "      <th>Column2</th>\n",
       "      <th>Column3</th>\n",
       "      <th>Column4</th>\n",
       "    </tr>\n",
       "  </thead>\n",
       "  <tbody>\n",
       "    <tr>\n",
       "      <th>count</th>\n",
       "      <td>5.000000</td>\n",
       "      <td>5.000000</td>\n",
       "      <td>5.000000</td>\n",
       "      <td>5.000000</td>\n",
       "    </tr>\n",
       "    <tr>\n",
       "      <th>mean</th>\n",
       "      <td>8.000000</td>\n",
       "      <td>9.000000</td>\n",
       "      <td>10.000000</td>\n",
       "      <td>11.000000</td>\n",
       "    </tr>\n",
       "    <tr>\n",
       "      <th>std</th>\n",
       "      <td>6.324555</td>\n",
       "      <td>6.324555</td>\n",
       "      <td>6.324555</td>\n",
       "      <td>6.324555</td>\n",
       "    </tr>\n",
       "    <tr>\n",
       "      <th>min</th>\n",
       "      <td>0.000000</td>\n",
       "      <td>1.000000</td>\n",
       "      <td>2.000000</td>\n",
       "      <td>3.000000</td>\n",
       "    </tr>\n",
       "    <tr>\n",
       "      <th>25%</th>\n",
       "      <td>4.000000</td>\n",
       "      <td>5.000000</td>\n",
       "      <td>6.000000</td>\n",
       "      <td>7.000000</td>\n",
       "    </tr>\n",
       "    <tr>\n",
       "      <th>50%</th>\n",
       "      <td>8.000000</td>\n",
       "      <td>9.000000</td>\n",
       "      <td>10.000000</td>\n",
       "      <td>11.000000</td>\n",
       "    </tr>\n",
       "    <tr>\n",
       "      <th>75%</th>\n",
       "      <td>12.000000</td>\n",
       "      <td>13.000000</td>\n",
       "      <td>14.000000</td>\n",
       "      <td>15.000000</td>\n",
       "    </tr>\n",
       "    <tr>\n",
       "      <th>max</th>\n",
       "      <td>16.000000</td>\n",
       "      <td>17.000000</td>\n",
       "      <td>18.000000</td>\n",
       "      <td>19.000000</td>\n",
       "    </tr>\n",
       "  </tbody>\n",
       "</table>\n",
       "</div>"
      ],
      "text/plain": [
       "         Column1    Column2    Column3    Column4\n",
       "count   5.000000   5.000000   5.000000   5.000000\n",
       "mean    8.000000   9.000000  10.000000  11.000000\n",
       "std     6.324555   6.324555   6.324555   6.324555\n",
       "min     0.000000   1.000000   2.000000   3.000000\n",
       "25%     4.000000   5.000000   6.000000   7.000000\n",
       "50%     8.000000   9.000000  10.000000  11.000000\n",
       "75%    12.000000  13.000000  14.000000  15.000000\n",
       "max    16.000000  17.000000  18.000000  19.000000"
      ]
     },
     "execution_count": 82,
     "metadata": {},
     "output_type": "execute_result"
    }
   ],
   "source": [
    "df.describe()"
   ]
  },
  {
   "cell_type": "markdown",
   "id": "aa792a47",
   "metadata": {},
   "source": [
    "INDEXING"
   ]
  },
  {
   "cell_type": "code",
   "execution_count": 83,
   "id": "1cff8dec",
   "metadata": {},
   "outputs": [
    {
     "data": {
      "text/html": [
       "<div>\n",
       "<style scoped>\n",
       "    .dataframe tbody tr th:only-of-type {\n",
       "        vertical-align: middle;\n",
       "    }\n",
       "\n",
       "    .dataframe tbody tr th {\n",
       "        vertical-align: top;\n",
       "    }\n",
       "\n",
       "    .dataframe thead th {\n",
       "        text-align: right;\n",
       "    }\n",
       "</style>\n",
       "<table border=\"1\" class=\"dataframe\">\n",
       "  <thead>\n",
       "    <tr style=\"text-align: right;\">\n",
       "      <th></th>\n",
       "      <th>Column1</th>\n",
       "      <th>Column2</th>\n",
       "    </tr>\n",
       "  </thead>\n",
       "  <tbody>\n",
       "    <tr>\n",
       "      <th>Row1</th>\n",
       "      <td>0</td>\n",
       "      <td>1</td>\n",
       "    </tr>\n",
       "    <tr>\n",
       "      <th>ROW2</th>\n",
       "      <td>4</td>\n",
       "      <td>5</td>\n",
       "    </tr>\n",
       "    <tr>\n",
       "      <th>Row3</th>\n",
       "      <td>8</td>\n",
       "      <td>9</td>\n",
       "    </tr>\n",
       "    <tr>\n",
       "      <th>ROW4</th>\n",
       "      <td>12</td>\n",
       "      <td>13</td>\n",
       "    </tr>\n",
       "    <tr>\n",
       "      <th>Row5</th>\n",
       "      <td>16</td>\n",
       "      <td>17</td>\n",
       "    </tr>\n",
       "  </tbody>\n",
       "</table>\n",
       "</div>"
      ],
      "text/plain": [
       "      Column1  Column2\n",
       "Row1        0        1\n",
       "ROW2        4        5\n",
       "Row3        8        9\n",
       "ROW4       12       13\n",
       "Row5       16       17"
      ]
     },
     "execution_count": 83,
     "metadata": {},
     "output_type": "execute_result"
    }
   ],
   "source": [
    "df[[\"Column1\",\"Column2\"]]"
   ]
  },
  {
   "cell_type": "markdown",
   "id": "f5268caf",
   "metadata": {},
   "source": [
    "jab ham multiple row aur multiple columns ko combone kr dete haai toh usse ham bolte hai DATAFRAMES and agar sirf ek row hai aur ek column hai toh usse ham bolenge SERIES"
   ]
  },
  {
   "cell_type": "markdown",
   "id": "c157d27e",
   "metadata": {},
   "source": [
    "USING ROW INDEX NAME USING LOC"
   ]
  },
  {
   "cell_type": "code",
   "execution_count": 84,
   "id": "b8bef8fa",
   "metadata": {},
   "outputs": [
    {
     "data": {
      "text/plain": [
       "Column1    4\n",
       "Column2    5\n",
       "Column3    6\n",
       "Column4    7\n",
       "Name: ROW2, dtype: int32"
      ]
     },
     "execution_count": 84,
     "metadata": {},
     "output_type": "execute_result"
    }
   ],
   "source": [
    "df.loc['ROW2']"
   ]
  },
  {
   "cell_type": "code",
   "execution_count": 85,
   "id": "420bbab5",
   "metadata": {},
   "outputs": [
    {
     "data": {
      "text/plain": [
       "pandas.core.series.Series"
      ]
     },
     "execution_count": 85,
     "metadata": {},
     "output_type": "execute_result"
    }
   ],
   "source": [
    "type(df.loc['ROW2'])"
   ]
  },
  {
   "cell_type": "markdown",
   "id": "18a1ed44",
   "metadata": {},
   "source": [
    "USING ILOC"
   ]
  },
  {
   "cell_type": "code",
   "execution_count": 86,
   "id": "3f08234f",
   "metadata": {},
   "outputs": [
    {
     "data": {
      "text/html": [
       "<div>\n",
       "<style scoped>\n",
       "    .dataframe tbody tr th:only-of-type {\n",
       "        vertical-align: middle;\n",
       "    }\n",
       "\n",
       "    .dataframe tbody tr th {\n",
       "        vertical-align: top;\n",
       "    }\n",
       "\n",
       "    .dataframe thead th {\n",
       "        text-align: right;\n",
       "    }\n",
       "</style>\n",
       "<table border=\"1\" class=\"dataframe\">\n",
       "  <thead>\n",
       "    <tr style=\"text-align: right;\">\n",
       "      <th></th>\n",
       "      <th>Column1</th>\n",
       "      <th>Column2</th>\n",
       "      <th>Column3</th>\n",
       "    </tr>\n",
       "  </thead>\n",
       "  <tbody>\n",
       "    <tr>\n",
       "      <th>Row3</th>\n",
       "      <td>8</td>\n",
       "      <td>9</td>\n",
       "      <td>10</td>\n",
       "    </tr>\n",
       "    <tr>\n",
       "      <th>ROW4</th>\n",
       "      <td>12</td>\n",
       "      <td>13</td>\n",
       "      <td>14</td>\n",
       "    </tr>\n",
       "  </tbody>\n",
       "</table>\n",
       "</div>"
      ],
      "text/plain": [
       "      Column1  Column2  Column3\n",
       "Row3        8        9       10\n",
       "ROW4       12       13       14"
      ]
     },
     "execution_count": 86,
     "metadata": {},
     "output_type": "execute_result"
    }
   ],
   "source": [
    "df.iloc[2:4,:3]"
   ]
  },
  {
   "cell_type": "markdown",
   "id": "652ae72a",
   "metadata": {},
   "source": [
    "# Convert dataframes into arrays"
   ]
  },
  {
   "cell_type": "code",
   "execution_count": 88,
   "id": "16531562",
   "metadata": {},
   "outputs": [
    {
     "data": {
      "text/plain": [
       "array([[ 0,  1,  2,  3],\n",
       "       [ 4,  5,  6,  7],\n",
       "       [ 8,  9, 10, 11],\n",
       "       [12, 13, 14, 15],\n",
       "       [16, 17, 18, 19]])"
      ]
     },
     "execution_count": 88,
     "metadata": {},
     "output_type": "execute_result"
    }
   ],
   "source": [
    "df.values"
   ]
  },
  {
   "cell_type": "markdown",
   "id": "e2a60945",
   "metadata": {},
   "source": [
    "# BASIC OPERATIONS"
   ]
  },
  {
   "cell_type": "code",
   "execution_count": 89,
   "id": "8a4b4c63",
   "metadata": {},
   "outputs": [
    {
     "data": {
      "text/html": [
       "<div>\n",
       "<style scoped>\n",
       "    .dataframe tbody tr th:only-of-type {\n",
       "        vertical-align: middle;\n",
       "    }\n",
       "\n",
       "    .dataframe tbody tr th {\n",
       "        vertical-align: top;\n",
       "    }\n",
       "\n",
       "    .dataframe thead th {\n",
       "        text-align: right;\n",
       "    }\n",
       "</style>\n",
       "<table border=\"1\" class=\"dataframe\">\n",
       "  <thead>\n",
       "    <tr style=\"text-align: right;\">\n",
       "      <th></th>\n",
       "      <th>Column1</th>\n",
       "      <th>Column2</th>\n",
       "      <th>Column3</th>\n",
       "      <th>Column4</th>\n",
       "    </tr>\n",
       "  </thead>\n",
       "  <tbody>\n",
       "    <tr>\n",
       "      <th>Row1</th>\n",
       "      <td>0</td>\n",
       "      <td>1</td>\n",
       "      <td>2</td>\n",
       "      <td>3</td>\n",
       "    </tr>\n",
       "    <tr>\n",
       "      <th>ROW2</th>\n",
       "      <td>4</td>\n",
       "      <td>5</td>\n",
       "      <td>6</td>\n",
       "      <td>7</td>\n",
       "    </tr>\n",
       "    <tr>\n",
       "      <th>Row3</th>\n",
       "      <td>8</td>\n",
       "      <td>9</td>\n",
       "      <td>10</td>\n",
       "      <td>11</td>\n",
       "    </tr>\n",
       "    <tr>\n",
       "      <th>ROW4</th>\n",
       "      <td>12</td>\n",
       "      <td>13</td>\n",
       "      <td>14</td>\n",
       "      <td>15</td>\n",
       "    </tr>\n",
       "    <tr>\n",
       "      <th>Row5</th>\n",
       "      <td>16</td>\n",
       "      <td>17</td>\n",
       "      <td>18</td>\n",
       "      <td>19</td>\n",
       "    </tr>\n",
       "  </tbody>\n",
       "</table>\n",
       "</div>"
      ],
      "text/plain": [
       "      Column1  Column2  Column3  Column4\n",
       "Row1        0        1        2        3\n",
       "ROW2        4        5        6        7\n",
       "Row3        8        9       10       11\n",
       "ROW4       12       13       14       15\n",
       "Row5       16       17       18       19"
      ]
     },
     "execution_count": 89,
     "metadata": {},
     "output_type": "execute_result"
    }
   ],
   "source": [
    "df"
   ]
  },
  {
   "cell_type": "code",
   "execution_count": 91,
   "id": "5647bd73",
   "metadata": {},
   "outputs": [
    {
     "data": {
      "text/plain": [
       "Column1    0\n",
       "Column2    0\n",
       "Column3    0\n",
       "Column4    0\n",
       "dtype: int64"
      ]
     },
     "execution_count": 91,
     "metadata": {},
     "output_type": "execute_result"
    }
   ],
   "source": [
    "df.isnull().sum()"
   ]
  },
  {
   "cell_type": "code",
   "execution_count": 108,
   "id": "0ce966ff",
   "metadata": {},
   "outputs": [],
   "source": [
    "df1=pd.DataFrame(data=[[1,2,2,4],[1,np.nan,4,np.nan]],\n",
    "            index=[\"Row1\",\n",
    "                  \"ROW2\"],\n",
    "            columns=[\"Column1\",\n",
    "                   \"Column2\",\n",
    "                   \"Column3\",\n",
    "                   \"Column4\"])"
   ]
  },
  {
   "cell_type": "code",
   "execution_count": 111,
   "id": "10aba165",
   "metadata": {},
   "outputs": [],
   "source": [
    "df1=pd.DataFrame(data=[[1,2,2,4],[1,2,4,5]],\n",
    "            index=[\"Row1\",\n",
    "                  \"ROW2\"],\n",
    "            columns=[\"Column1\",\n",
    "                   \"Column2\",\n",
    "                   \"Column3\",\n",
    "                   \"Column4\"])"
   ]
  },
  {
   "cell_type": "code",
   "execution_count": 109,
   "id": "a3f6507f",
   "metadata": {},
   "outputs": [
    {
     "data": {
      "text/html": [
       "<div>\n",
       "<style scoped>\n",
       "    .dataframe tbody tr th:only-of-type {\n",
       "        vertical-align: middle;\n",
       "    }\n",
       "\n",
       "    .dataframe tbody tr th {\n",
       "        vertical-align: top;\n",
       "    }\n",
       "\n",
       "    .dataframe thead th {\n",
       "        text-align: right;\n",
       "    }\n",
       "</style>\n",
       "<table border=\"1\" class=\"dataframe\">\n",
       "  <thead>\n",
       "    <tr style=\"text-align: right;\">\n",
       "      <th></th>\n",
       "      <th>Column1</th>\n",
       "      <th>Column2</th>\n",
       "      <th>Column3</th>\n",
       "      <th>Column4</th>\n",
       "    </tr>\n",
       "  </thead>\n",
       "  <tbody>\n",
       "    <tr>\n",
       "      <th>Row1</th>\n",
       "      <td>1</td>\n",
       "      <td>2.0</td>\n",
       "      <td>2</td>\n",
       "      <td>4.0</td>\n",
       "    </tr>\n",
       "    <tr>\n",
       "      <th>ROW2</th>\n",
       "      <td>1</td>\n",
       "      <td>NaN</td>\n",
       "      <td>4</td>\n",
       "      <td>NaN</td>\n",
       "    </tr>\n",
       "  </tbody>\n",
       "</table>\n",
       "</div>"
      ],
      "text/plain": [
       "      Column1  Column2  Column3  Column4\n",
       "Row1        1      2.0        2      4.0\n",
       "ROW2        1      NaN        4      NaN"
      ]
     },
     "execution_count": 109,
     "metadata": {},
     "output_type": "execute_result"
    }
   ],
   "source": [
    "df1"
   ]
  },
  {
   "cell_type": "code",
   "execution_count": 112,
   "id": "7ab3bee8",
   "metadata": {},
   "outputs": [
    {
     "data": {
      "text/html": [
       "<div>\n",
       "<style scoped>\n",
       "    .dataframe tbody tr th:only-of-type {\n",
       "        vertical-align: middle;\n",
       "    }\n",
       "\n",
       "    .dataframe tbody tr th {\n",
       "        vertical-align: top;\n",
       "    }\n",
       "\n",
       "    .dataframe thead th {\n",
       "        text-align: right;\n",
       "    }\n",
       "</style>\n",
       "<table border=\"1\" class=\"dataframe\">\n",
       "  <thead>\n",
       "    <tr style=\"text-align: right;\">\n",
       "      <th></th>\n",
       "      <th>Column1</th>\n",
       "      <th>Column2</th>\n",
       "      <th>Column3</th>\n",
       "      <th>Column4</th>\n",
       "    </tr>\n",
       "  </thead>\n",
       "  <tbody>\n",
       "    <tr>\n",
       "      <th>Row1</th>\n",
       "      <td>1</td>\n",
       "      <td>2</td>\n",
       "      <td>2</td>\n",
       "      <td>4</td>\n",
       "    </tr>\n",
       "    <tr>\n",
       "      <th>ROW2</th>\n",
       "      <td>1</td>\n",
       "      <td>2</td>\n",
       "      <td>4</td>\n",
       "      <td>5</td>\n",
       "    </tr>\n",
       "  </tbody>\n",
       "</table>\n",
       "</div>"
      ],
      "text/plain": [
       "      Column1  Column2  Column3  Column4\n",
       "Row1        1        2        2        4\n",
       "ROW2        1        2        4        5"
      ]
     },
     "execution_count": 112,
     "metadata": {},
     "output_type": "execute_result"
    }
   ],
   "source": [
    "df1"
   ]
  },
  {
   "cell_type": "code",
   "execution_count": 94,
   "id": "0a751c6c",
   "metadata": {},
   "outputs": [
    {
     "data": {
      "text/plain": [
       "Column1    0\n",
       "Column2    1\n",
       "Column3    0\n",
       "Column4    1\n",
       "dtype: int64"
      ]
     },
     "execution_count": 94,
     "metadata": {},
     "output_type": "execute_result"
    }
   ],
   "source": [
    "df1.isnull().sum()"
   ]
  },
  {
   "cell_type": "code",
   "execution_count": 99,
   "id": "4e2d6825",
   "metadata": {},
   "outputs": [
    {
     "data": {
      "text/plain": [
       "Column1    False\n",
       "Column2     True\n",
       "Column3    False\n",
       "Column4     True\n",
       "dtype: bool"
      ]
     },
     "execution_count": 99,
     "metadata": {},
     "output_type": "execute_result"
    }
   ],
   "source": [
    "df1.isnull().sum()==True"
   ]
  },
  {
   "cell_type": "code",
   "execution_count": 115,
   "id": "12c757f8",
   "metadata": {},
   "outputs": [
    {
     "data": {
      "text/plain": [
       "1    2\n",
       "Name: Column1, dtype: int64"
      ]
     },
     "execution_count": 115,
     "metadata": {},
     "output_type": "execute_result"
    }
   ],
   "source": [
    "df1[\"Column1\"].value_counts()"
   ]
  },
  {
   "cell_type": "code",
   "execution_count": 116,
   "id": "f263bf83",
   "metadata": {},
   "outputs": [
    {
     "data": {
      "text/plain": [
       "array([1], dtype=int64)"
      ]
     },
     "execution_count": 116,
     "metadata": {},
     "output_type": "execute_result"
    }
   ],
   "source": [
    "df1[\"Column1\"].unique()"
   ]
  },
  {
   "cell_type": "code",
   "execution_count": null,
   "id": "16d8cecc",
   "metadata": {},
   "outputs": [],
   "source": []
  }
 ],
 "metadata": {
  "kernelspec": {
   "display_name": "Python 3 (ipykernel)",
   "language": "python",
   "name": "python3"
  },
  "language_info": {
   "codemirror_mode": {
    "name": "ipython",
    "version": 3
   },
   "file_extension": ".py",
   "mimetype": "text/x-python",
   "name": "python",
   "nbconvert_exporter": "python",
   "pygments_lexer": "ipython3",
   "version": "3.10.9"
  }
 },
 "nbformat": 4,
 "nbformat_minor": 5
}
